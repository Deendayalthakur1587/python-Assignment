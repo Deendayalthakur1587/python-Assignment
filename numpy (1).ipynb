{
 "cells": [
  {
   "cell_type": "code",
   "execution_count": 273,
   "id": "3dba18fe-7e6d-4f83-ace2-4581bd0dd122",
   "metadata": {},
   "outputs": [],
   "source": [
    "import numpy as np"
   ]
  },
  {
   "cell_type": "code",
   "execution_count": 274,
   "id": "5fb92e9d-cc7b-491f-9a6a-0a11be36aa2d",
   "metadata": {},
   "outputs": [
    {
     "name": "stdout",
     "output_type": "stream",
     "text": [
      "[1 2 3 4]\n"
     ]
    }
   ],
   "source": [
    "#1D numpy array - vector\n",
    "a = np.array([1,2,3,4])\n",
    "print(a)"
   ]
  },
  {
   "cell_type": "code",
   "execution_count": 275,
   "id": "e39361f2-c269-441c-85b8-c4083fafdd86",
   "metadata": {},
   "outputs": [
    {
     "name": "stdout",
     "output_type": "stream",
     "text": [
      "<class 'numpy.ndarray'>\n"
     ]
    }
   ],
   "source": [
    "print(type(a))"
   ]
  },
  {
   "cell_type": "code",
   "execution_count": 276,
   "id": "df890f93-00b2-4a5e-9f93-95fdb91f91dc",
   "metadata": {},
   "outputs": [],
   "source": [
    "#2D numpy array - matrix\n",
    "b = np.array([[1,2,3],[4,5,6]])"
   ]
  },
  {
   "cell_type": "code",
   "execution_count": 277,
   "id": "389d7059-79f5-4175-985d-68ca7acf5fe1",
   "metadata": {},
   "outputs": [
    {
     "name": "stdout",
     "output_type": "stream",
     "text": [
      "[[1 2 3]\n",
      " [4 5 6]]\n"
     ]
    }
   ],
   "source": [
    "print(b)"
   ]
  },
  {
   "cell_type": "code",
   "execution_count": 278,
   "id": "8b41f2cb-e139-4b95-8030-b1e76111d56a",
   "metadata": {},
   "outputs": [],
   "source": [
    "#3D numpy array - \n",
    "c = np.array([[[1,2],[3,4]],[[5,6],[7,8]]])"
   ]
  },
  {
   "cell_type": "code",
   "execution_count": 279,
   "id": "29c8357c-1646-4924-99cc-41e617ddee39",
   "metadata": {},
   "outputs": [
    {
     "name": "stdout",
     "output_type": "stream",
     "text": [
      "[[[1 2]\n",
      "  [3 4]]\n",
      "\n",
      " [[5 6]\n",
      "  [7 8]]]\n"
     ]
    }
   ],
   "source": [
    "print(c)"
   ]
  },
  {
   "cell_type": "code",
   "execution_count": 280,
   "id": "38083e4d-a4f4-4e75-a670-6db969874c0f",
   "metadata": {},
   "outputs": [
    {
     "data": {
      "text/plain": [
       "array([1., 2., 3., 4.])"
      ]
     },
     "execution_count": 280,
     "metadata": {},
     "output_type": "execute_result"
    }
   ],
   "source": [
    "#Data type\n",
    "np.array([1,2,3,4],dtype=float)"
   ]
  },
  {
   "cell_type": "code",
   "execution_count": 281,
   "id": "628a8e80-89dc-4373-9468-78acb1945dd2",
   "metadata": {},
   "outputs": [
    {
     "data": {
      "text/plain": [
       "array([ True,  True,  True,  True])"
      ]
     },
     "execution_count": 281,
     "metadata": {},
     "output_type": "execute_result"
    }
   ],
   "source": [
    "np.array([1,2,3,4],dtype=bool)"
   ]
  },
  {
   "cell_type": "code",
   "execution_count": 282,
   "id": "7f72e98d-7814-49c7-9d02-765b377bb60f",
   "metadata": {},
   "outputs": [
    {
     "data": {
      "text/plain": [
       "array([ 1,  2,  3,  4,  5,  6,  7,  8,  9, 10])"
      ]
     },
     "execution_count": 282,
     "metadata": {},
     "output_type": "execute_result"
    }
   ],
   "source": [
    "np.arange(1,11)"
   ]
  },
  {
   "cell_type": "code",
   "execution_count": 283,
   "id": "72f59df6-76b5-47b3-8017-13d43f56c163",
   "metadata": {},
   "outputs": [
    {
     "data": {
      "text/plain": [
       "array([1, 3, 5, 7, 9])"
      ]
     },
     "execution_count": 283,
     "metadata": {},
     "output_type": "execute_result"
    }
   ],
   "source": [
    "np.arange(1,11,2)"
   ]
  },
  {
   "cell_type": "code",
   "execution_count": 284,
   "id": "4fe0bd16-3edc-4245-9af7-d094385ea6ba",
   "metadata": {},
   "outputs": [
    {
     "data": {
      "text/plain": [
       "array([[ 1,  2],\n",
       "       [ 3,  4],\n",
       "       [ 5,  6],\n",
       "       [ 7,  8],\n",
       "       [ 9, 10]])"
      ]
     },
     "execution_count": 284,
     "metadata": {},
     "output_type": "execute_result"
    }
   ],
   "source": [
    "#reshape\n",
    "np.arange(1,11).reshape(5,2)"
   ]
  },
  {
   "cell_type": "code",
   "execution_count": 285,
   "id": "9f895f53-6ece-4b89-8bce-42e34e6b7acd",
   "metadata": {},
   "outputs": [
    {
     "ename": "ValueError",
     "evalue": "cannot reshape array of size 12 into shape (5,5)",
     "output_type": "error",
     "traceback": [
      "\u001b[1;31m---------------------------------------------------------------------------\u001b[0m",
      "\u001b[1;31mValueError\u001b[0m                                Traceback (most recent call last)",
      "Cell \u001b[1;32mIn[285], line 1\u001b[0m\n\u001b[1;32m----> 1\u001b[0m np\u001b[38;5;241m.\u001b[39marange(\u001b[38;5;241m1\u001b[39m,\u001b[38;5;241m13\u001b[39m)\u001b[38;5;241m.\u001b[39mreshape(\u001b[38;5;241m5\u001b[39m,\u001b[38;5;241m5\u001b[39m)\n",
      "\u001b[1;31mValueError\u001b[0m: cannot reshape array of size 12 into shape (5,5)"
     ]
    }
   ],
   "source": [
    "np.arange(1,13).reshape(5,5)"
   ]
  },
  {
   "cell_type": "code",
   "execution_count": null,
   "id": "24901600-6f79-42e0-b3f4-6ac0cf4b4b3c",
   "metadata": {},
   "outputs": [],
   "source": [
    "np.ones((3,4))"
   ]
  },
  {
   "cell_type": "code",
   "execution_count": null,
   "id": "308415f9-3117-4071-b085-bb7996340bad",
   "metadata": {},
   "outputs": [],
   "source": [
    "np.zeros((4,3))"
   ]
  },
  {
   "cell_type": "code",
   "execution_count": null,
   "id": "522c6773-6895-406e-bd85-d201720ac876",
   "metadata": {},
   "outputs": [],
   "source": [
    "np.mat((2,2))"
   ]
  },
  {
   "cell_type": "code",
   "execution_count": null,
   "id": "d385be01-0ed2-44fb-ae9b-233a15dd7d78",
   "metadata": {},
   "outputs": [],
   "source": [
    "np.random.random((3,4))"
   ]
  },
  {
   "cell_type": "code",
   "execution_count": null,
   "id": "5df10d92-923e-4e4f-8abb-35e58ffc5e60",
   "metadata": {},
   "outputs": [],
   "source": [
    "#lineaer space\n",
    "np.linspace(-10,10,10)"
   ]
  },
  {
   "cell_type": "code",
   "execution_count": null,
   "id": "fd48dd13-cba5-4754-9e3d-9a92ada080d2",
   "metadata": {},
   "outputs": [],
   "source": [
    "np.linspace(1,10,20)"
   ]
  },
  {
   "cell_type": "code",
   "execution_count": null,
   "id": "6f7aac57-6dfc-4c4d-af6a-73a2463c1bc5",
   "metadata": {},
   "outputs": [],
   "source": [
    "np.linspace(1,10,20,dtype=int)"
   ]
  },
  {
   "cell_type": "code",
   "execution_count": null,
   "id": "9f5468a6-c98a-4d6b-8f1e-213e802b1446",
   "metadata": {},
   "outputs": [],
   "source": [
    "np.eye(3) #np.identity(3)"
   ]
  },
  {
   "cell_type": "code",
   "execution_count": null,
   "id": "abd42950-1092-42b4-a4dc-ae96f595e099",
   "metadata": {},
   "outputs": [],
   "source": [
    "#Numpy Attributes\n"
   ]
  },
  {
   "cell_type": "code",
   "execution_count": null,
   "id": "e8e01a0c-061d-483a-8924-924871c91caa",
   "metadata": {},
   "outputs": [],
   "source": [
    "a1 = np.arange(10)\n",
    "a2 = np.arange(12,dtype=float).reshape(3,4)"
   ]
  },
  {
   "cell_type": "code",
   "execution_count": null,
   "id": "4d7825a9-5309-4d0c-b4b9-136349d4641d",
   "metadata": {},
   "outputs": [],
   "source": [
    "a3 = np.arange(8).reshape(2,2,2)"
   ]
  },
  {
   "cell_type": "code",
   "execution_count": null,
   "id": "5e6814ff-4ebe-44b9-a8d0-cc1183f5c732",
   "metadata": {},
   "outputs": [],
   "source": [
    "a1"
   ]
  },
  {
   "cell_type": "code",
   "execution_count": null,
   "id": "433ae682-08e9-40c9-9c64-e2250610a8fd",
   "metadata": {},
   "outputs": [],
   "source": [
    "a2"
   ]
  },
  {
   "cell_type": "code",
   "execution_count": null,
   "id": "9e5bba15-1b9e-4020-b371-f496f15b40ec",
   "metadata": {},
   "outputs": [],
   "source": [
    "a3"
   ]
  },
  {
   "cell_type": "code",
   "execution_count": null,
   "id": "1fb00809-dd95-4f40-a377-a7574997c9c4",
   "metadata": {},
   "outputs": [],
   "source": [
    "#no od dimensions\n",
    "a1.ndim"
   ]
  },
  {
   "cell_type": "code",
   "execution_count": null,
   "id": "9cf45888-17be-4203-a909-cc9f66afa011",
   "metadata": {},
   "outputs": [],
   "source": [
    "a2.ndim"
   ]
  },
  {
   "cell_type": "code",
   "execution_count": null,
   "id": "9bf5ec1d-7907-424b-93be-518061058cde",
   "metadata": {},
   "outputs": [],
   "source": [
    "a3.ndim"
   ]
  },
  {
   "cell_type": "code",
   "execution_count": null,
   "id": "aa3d7ad5-76e9-4698-8188-1c3bdb487bce",
   "metadata": {},
   "outputs": [],
   "source": [
    "print(a3.shape)"
   ]
  },
  {
   "cell_type": "code",
   "execution_count": null,
   "id": "6008a1e0-bfdb-4ce5-9262-702af41e8ce0",
   "metadata": {},
   "outputs": [],
   "source": [
    "a3"
   ]
  },
  {
   "cell_type": "code",
   "execution_count": null,
   "id": "b60fb4a1-e7a4-44ef-ae29-2a650221c744",
   "metadata": {},
   "outputs": [],
   "source": [
    "a3.size"
   ]
  },
  {
   "cell_type": "code",
   "execution_count": null,
   "id": "20f283aa-c325-4742-bb20-3fbc859033de",
   "metadata": {},
   "outputs": [],
   "source": [
    "a2.size"
   ]
  },
  {
   "cell_type": "code",
   "execution_count": null,
   "id": "22a68fff-f90e-48ae-ae34-289771733c2f",
   "metadata": {},
   "outputs": [],
   "source": [
    "a1.itemsize"
   ]
  },
  {
   "cell_type": "code",
   "execution_count": null,
   "id": "37cb519c-7752-4804-93de-bfbaf81bd995",
   "metadata": {},
   "outputs": [],
   "source": [
    "a2.itemsize"
   ]
  },
  {
   "cell_type": "code",
   "execution_count": null,
   "id": "34874148-97dd-4103-9e6f-a8da39673e60",
   "metadata": {},
   "outputs": [],
   "source": [
    "print(a1.dtype)"
   ]
  },
  {
   "cell_type": "code",
   "execution_count": null,
   "id": "4eb9a0fb-d187-4324-abf4-6f1bddd9a14c",
   "metadata": {},
   "outputs": [],
   "source": [
    "a1\n",
    "\n"
   ]
  },
  {
   "cell_type": "code",
   "execution_count": null,
   "id": "94714c80-d7ea-4f21-9980-b7086fc11f74",
   "metadata": {},
   "outputs": [],
   "source": [
    "#Array operations"
   ]
  },
  {
   "cell_type": "code",
   "execution_count": null,
   "id": "fd0c6400-47a2-4924-96dd-2c5f3484353e",
   "metadata": {},
   "outputs": [],
   "source": [
    "a1 = np.arange(12).reshape(3,4)\n",
    "a2 = np.arange(12).reshape(3,4)"
   ]
  },
  {
   "cell_type": "code",
   "execution_count": null,
   "id": "19ca83f4-9ef7-45bb-aedc-4389f69233de",
   "metadata": {},
   "outputs": [],
   "source": [
    "a1\n"
   ]
  },
  {
   "cell_type": "code",
   "execution_count": null,
   "id": "126df2c2-5f9e-4a9f-b09e-612d4c9f886d",
   "metadata": {},
   "outputs": [],
   "source": [
    "a2"
   ]
  },
  {
   "cell_type": "code",
   "execution_count": null,
   "id": "c98d2bd7-f441-43bf-ba54-0541736221ed",
   "metadata": {},
   "outputs": [],
   "source": [
    "#scalar operation"
   ]
  },
  {
   "cell_type": "code",
   "execution_count": null,
   "id": "170a0c53-512d-4d76-bc4c-054720c48a0e",
   "metadata": {},
   "outputs": [],
   "source": [
    "a1*2"
   ]
  },
  {
   "cell_type": "code",
   "execution_count": null,
   "id": "eb579d44-8907-4174-8a48-c1c47e9dec24",
   "metadata": {},
   "outputs": [],
   "source": [
    "a1/2"
   ]
  },
  {
   "cell_type": "code",
   "execution_count": null,
   "id": "14833ef4-bcd1-4915-a2d9-376068de5c63",
   "metadata": {},
   "outputs": [],
   "source": [
    "a1**2"
   ]
  },
  {
   "cell_type": "code",
   "execution_count": null,
   "id": "abd112fe-1720-4b5a-bd20-e69e8906b9b1",
   "metadata": {},
   "outputs": [],
   "source": [
    "#relational operation "
   ]
  },
  {
   "cell_type": "code",
   "execution_count": null,
   "id": "5697526f-d108-47d8-865e-6f5453279136",
   "metadata": {},
   "outputs": [],
   "source": [
    "a2>5"
   ]
  },
  {
   "cell_type": "code",
   "execution_count": null,
   "id": "6c7e70e5-cae4-45c7-93fe-3cbb1d4225a6",
   "metadata": {},
   "outputs": [],
   "source": [
    "a2==15"
   ]
  },
  {
   "cell_type": "code",
   "execution_count": null,
   "id": "350bfbc8-b421-47fc-81ab-f6e985978e3b",
   "metadata": {},
   "outputs": [],
   "source": [
    "#vector operations"
   ]
  },
  {
   "cell_type": "code",
   "execution_count": null,
   "id": "79118880-d37a-4cb1-af6b-8ee7e3be836f",
   "metadata": {},
   "outputs": [],
   "source": [
    "a1"
   ]
  },
  {
   "cell_type": "code",
   "execution_count": null,
   "id": "610b8d41-af4c-47d0-9ad5-171808313196",
   "metadata": {},
   "outputs": [],
   "source": [
    "a2"
   ]
  },
  {
   "cell_type": "code",
   "execution_count": null,
   "id": "9a790ab1-7ba8-4c00-b8c4-ea354a22b947",
   "metadata": {},
   "outputs": [],
   "source": [
    "a1*a2\n"
   ]
  },
  {
   "cell_type": "code",
   "execution_count": null,
   "id": "fef6dc8b-1f4c-4836-9c3d-2b618ad34558",
   "metadata": {},
   "outputs": [],
   "source": [
    "a2"
   ]
  },
  {
   "cell_type": "code",
   "execution_count": null,
   "id": "2c5b49db-7745-40fb-8ed9-dd261b8b0d2c",
   "metadata": {},
   "outputs": [],
   "source": [
    "np.max(a2,axis=1)"
   ]
  },
  {
   "cell_type": "code",
   "execution_count": null,
   "id": "474131c1-ae9c-4be7-8e57-f31ba54295f0",
   "metadata": {},
   "outputs": [],
   "source": [
    "np.min(a2)"
   ]
  },
  {
   "cell_type": "code",
   "execution_count": null,
   "id": "3bda4280-11ee-435e-86e2-52fce2faa3cc",
   "metadata": {},
   "outputs": [],
   "source": [
    "np.sum(a2)"
   ]
  },
  {
   "cell_type": "code",
   "execution_count": null,
   "id": "45a6e087-2bfb-4d07-8cd2-62c739dbc1bf",
   "metadata": {},
   "outputs": [],
   "source": [
    "np.prod(a2)"
   ]
  },
  {
   "cell_type": "code",
   "execution_count": null,
   "id": "c65d3f15-1cb1-4e9a-bc96-b2a3041e3629",
   "metadata": {},
   "outputs": [],
   "source": [
    "np.mean(a2,axis=0)"
   ]
  },
  {
   "cell_type": "code",
   "execution_count": null,
   "id": "db6dde3c-e211-408e-af9d-726d1d6ded97",
   "metadata": {},
   "outputs": [],
   "source": [
    "np.median(a2,axis=1)"
   ]
  },
  {
   "cell_type": "code",
   "execution_count": null,
   "id": "e05901b4-5bfb-4954-9c91-82d982526d82",
   "metadata": {},
   "outputs": [],
   "source": [
    "np.std(a2,axis=0)"
   ]
  },
  {
   "cell_type": "code",
   "execution_count": null,
   "id": "0f290968-2958-45eb-95aa-51acf92501a5",
   "metadata": {},
   "outputs": [],
   "source": [
    "np.var(a2)"
   ]
  },
  {
   "cell_type": "code",
   "execution_count": null,
   "id": "007688fe-7e2e-4647-8fb6-0eefe3f0234a",
   "metadata": {},
   "outputs": [],
   "source": [
    "a2"
   ]
  },
  {
   "cell_type": "code",
   "execution_count": null,
   "id": "83900afc-6e57-4732-9a53-18d686fbc08d",
   "metadata": {},
   "outputs": [],
   "source": [
    "np.sin(a2)"
   ]
  },
  {
   "cell_type": "code",
   "execution_count": null,
   "id": "41f85fa3-fc73-4098-878e-4c1705adfab5",
   "metadata": {},
   "outputs": [],
   "source": [
    "#Dot Product"
   ]
  },
  {
   "cell_type": "code",
   "execution_count": null,
   "id": "0c5f3e79-7280-44e7-b083-09270d662470",
   "metadata": {},
   "outputs": [],
   "source": [
    "a2 = np.arange(12).reshape(3,4)\n",
    "a3 = np.arange(12,24).reshape(4,3)"
   ]
  },
  {
   "cell_type": "code",
   "execution_count": null,
   "id": "c755acbf-8968-4cde-bdcb-bfc627133e6b",
   "metadata": {},
   "outputs": [],
   "source": [
    "np.dot(a2,a3)"
   ]
  },
  {
   "cell_type": "code",
   "execution_count": null,
   "id": "2449752a-7e3e-4ef0-9175-ade4c81852fb",
   "metadata": {},
   "outputs": [],
   "source": [
    "np.round(np.random.random((3,4))*100)"
   ]
  },
  {
   "cell_type": "code",
   "execution_count": null,
   "id": "342241dd-b5ac-4347-80bf-72e2b671e6a3",
   "metadata": {},
   "outputs": [],
   "source": [
    "np.floor(np.random.random((3,4))*100)"
   ]
  },
  {
   "cell_type": "code",
   "execution_count": 8,
   "id": "22f87cc7-da36-4866-a56a-66568df14c5d",
   "metadata": {},
   "outputs": [
    {
     "ename": "NameError",
     "evalue": "name 'np' is not defined",
     "output_type": "error",
     "traceback": [
      "\u001b[1;31m---------------------------------------------------------------------------\u001b[0m",
      "\u001b[1;31mNameError\u001b[0m                                 Traceback (most recent call last)",
      "Cell \u001b[1;32mIn[8], line 1\u001b[0m\n\u001b[1;32m----> 1\u001b[0m np\u001b[38;5;241m.\u001b[39mceil(np\u001b[38;5;241m.\u001b[39mrandom\u001b[38;5;241m.\u001b[39mrandom((\u001b[38;5;241m3\u001b[39m,\u001b[38;5;241m4\u001b[39m))\u001b[38;5;241m*\u001b[39m\u001b[38;5;241m100\u001b[39m)\n",
      "\u001b[1;31mNameError\u001b[0m: name 'np' is not defined"
     ]
    }
   ],
   "source": [
    "np.ceil(np.random.random((3,4))*100)"
   ]
  },
  {
   "cell_type": "code",
   "execution_count": 10,
   "id": "40488f34-a329-4f29-b793-a9bf565a96d1",
   "metadata": {},
   "outputs": [],
   "source": [
    "import numpy as np"
   ]
  },
  {
   "cell_type": "code",
   "execution_count": 12,
   "id": "2309f0fb-e4cf-4b86-a394-d6073b9a34c4",
   "metadata": {},
   "outputs": [],
   "source": [
    "a1 = np.arange(10)\n"
   ]
  },
  {
   "cell_type": "code",
   "execution_count": null,
   "id": "1dd33151-a93c-416f-a8cd-27a41eaecdb5",
   "metadata": {},
   "outputs": [],
   "source": [
    "#Indexing and Slicing"
   ]
  },
  {
   "cell_type": "code",
   "execution_count": 14,
   "id": "04dc00e6-aaf7-4eef-bd45-0a611348ed3b",
   "metadata": {},
   "outputs": [],
   "source": [
    "a2 = np.arange(12).reshape(3,4)"
   ]
  },
  {
   "cell_type": "code",
   "execution_count": 16,
   "id": "2e220abe-da20-468d-b890-1037c559e3ec",
   "metadata": {},
   "outputs": [],
   "source": [
    "a3 = np.arange(8).reshape(2,2,2)"
   ]
  },
  {
   "cell_type": "code",
   "execution_count": 18,
   "id": "578553be-d8c1-4c18-ad34-a2d2371635ea",
   "metadata": {},
   "outputs": [
    {
     "data": {
      "text/plain": [
       "array([0, 1, 2, 3, 4, 5, 6, 7, 8, 9])"
      ]
     },
     "execution_count": 18,
     "metadata": {},
     "output_type": "execute_result"
    }
   ],
   "source": [
    "a1"
   ]
  },
  {
   "cell_type": "code",
   "execution_count": 20,
   "id": "6ed45959-27e4-4fa9-833a-eabf440a3b7a",
   "metadata": {},
   "outputs": [
    {
     "data": {
      "text/plain": [
       "9"
      ]
     },
     "execution_count": 20,
     "metadata": {},
     "output_type": "execute_result"
    }
   ],
   "source": [
    "a1[-1]"
   ]
  },
  {
   "cell_type": "code",
   "execution_count": 22,
   "id": "2fcbef83-f29f-4337-8f34-48ff3f872f96",
   "metadata": {},
   "outputs": [
    {
     "data": {
      "text/plain": [
       "0"
      ]
     },
     "execution_count": 22,
     "metadata": {},
     "output_type": "execute_result"
    }
   ],
   "source": [
    "a1[0]"
   ]
  },
  {
   "cell_type": "code",
   "execution_count": 24,
   "id": "ecd796b1-ae40-47ce-be8f-0f331405078c",
   "metadata": {},
   "outputs": [
    {
     "data": {
      "text/plain": [
       "3"
      ]
     },
     "execution_count": 24,
     "metadata": {},
     "output_type": "execute_result"
    }
   ],
   "source": [
    "a1[3]"
   ]
  },
  {
   "cell_type": "code",
   "execution_count": 26,
   "id": "50c4ec3f-bbfb-48da-906a-664275951583",
   "metadata": {},
   "outputs": [
    {
     "data": {
      "text/plain": [
       "array([[ 0,  1,  2,  3],\n",
       "       [ 4,  5,  6,  7],\n",
       "       [ 8,  9, 10, 11]])"
      ]
     },
     "execution_count": 26,
     "metadata": {},
     "output_type": "execute_result"
    }
   ],
   "source": [
    "a2"
   ]
  },
  {
   "cell_type": "code",
   "execution_count": 28,
   "id": "96c44217-001f-40b7-8c29-1d5a14f9e582",
   "metadata": {},
   "outputs": [
    {
     "data": {
      "text/plain": [
       "6"
      ]
     },
     "execution_count": 28,
     "metadata": {},
     "output_type": "execute_result"
    }
   ],
   "source": [
    "a2[1,2]"
   ]
  },
  {
   "cell_type": "code",
   "execution_count": 30,
   "id": "3193c267-5316-4922-909a-41a46409cb2a",
   "metadata": {},
   "outputs": [
    {
     "data": {
      "text/plain": [
       "11"
      ]
     },
     "execution_count": 30,
     "metadata": {},
     "output_type": "execute_result"
    }
   ],
   "source": [
    "a2[2,3]"
   ]
  },
  {
   "cell_type": "code",
   "execution_count": 32,
   "id": "8ca2a5f1-00ad-4ae1-9a02-f0b9dac8e6a8",
   "metadata": {},
   "outputs": [
    {
     "data": {
      "text/plain": [
       "array([[[0, 1],\n",
       "        [2, 3]],\n",
       "\n",
       "       [[4, 5],\n",
       "        [6, 7]]])"
      ]
     },
     "execution_count": 32,
     "metadata": {},
     "output_type": "execute_result"
    }
   ],
   "source": [
    "a3"
   ]
  },
  {
   "cell_type": "code",
   "execution_count": 34,
   "id": "85c012bf-7ebe-408e-bc12-b1c0128c1200",
   "metadata": {},
   "outputs": [
    {
     "data": {
      "text/plain": [
       "5"
      ]
     },
     "execution_count": 34,
     "metadata": {},
     "output_type": "execute_result"
    }
   ],
   "source": [
    "a3[1,0,1]"
   ]
  },
  {
   "cell_type": "code",
   "execution_count": 36,
   "id": "da67b325-7012-428e-8181-c61e1f73ce03",
   "metadata": {},
   "outputs": [
    {
     "data": {
      "text/plain": [
       "array([[0, 1],\n",
       "       [2, 3]])"
      ]
     },
     "execution_count": 36,
     "metadata": {},
     "output_type": "execute_result"
    }
   ],
   "source": [
    "a3[0]"
   ]
  },
  {
   "cell_type": "code",
   "execution_count": 38,
   "id": "badcc866-3890-4237-84ec-0add2d0ef327",
   "metadata": {},
   "outputs": [
    {
     "data": {
      "text/plain": [
       "2"
      ]
     },
     "execution_count": 38,
     "metadata": {},
     "output_type": "execute_result"
    }
   ],
   "source": [
    "a3[0,1,0]"
   ]
  },
  {
   "cell_type": "code",
   "execution_count": 40,
   "id": "622a05d0-af3f-4af0-9766-959ac3f825d6",
   "metadata": {},
   "outputs": [
    {
     "data": {
      "text/plain": [
       "array([0, 1, 2, 3, 4, 5, 6, 7, 8, 9])"
      ]
     },
     "execution_count": 40,
     "metadata": {},
     "output_type": "execute_result"
    }
   ],
   "source": [
    "a1"
   ]
  },
  {
   "cell_type": "code",
   "execution_count": 42,
   "id": "f44c4953-d88c-4523-81de-279610b2c909",
   "metadata": {},
   "outputs": [
    {
     "data": {
      "text/plain": [
       "array([2, 3, 4])"
      ]
     },
     "execution_count": 42,
     "metadata": {},
     "output_type": "execute_result"
    }
   ],
   "source": [
    "a1[2:5]"
   ]
  },
  {
   "cell_type": "code",
   "execution_count": 44,
   "id": "ef26b8fa-500d-4507-8c84-6e0423aed0b0",
   "metadata": {},
   "outputs": [
    {
     "data": {
      "text/plain": [
       "array([2, 4])"
      ]
     },
     "execution_count": 44,
     "metadata": {},
     "output_type": "execute_result"
    }
   ],
   "source": [
    "a1[2:5:2]"
   ]
  },
  {
   "cell_type": "code",
   "execution_count": 46,
   "id": "acee679f-63e2-4ed6-83ed-ae557bff49da",
   "metadata": {},
   "outputs": [
    {
     "data": {
      "text/plain": [
       "array([[ 0,  1,  2,  3],\n",
       "       [ 4,  5,  6,  7],\n",
       "       [ 8,  9, 10, 11]])"
      ]
     },
     "execution_count": 46,
     "metadata": {},
     "output_type": "execute_result"
    }
   ],
   "source": [
    "a2"
   ]
  },
  {
   "cell_type": "code",
   "execution_count": 48,
   "id": "c4f9795a-7310-41cb-bf58-f32ac9e8ed36",
   "metadata": {},
   "outputs": [
    {
     "data": {
      "text/plain": [
       "array([0, 1, 2, 3])"
      ]
     },
     "execution_count": 48,
     "metadata": {},
     "output_type": "execute_result"
    }
   ],
   "source": [
    "a2[0]"
   ]
  },
  {
   "cell_type": "code",
   "execution_count": 50,
   "id": "b777ee8b-133d-483f-a9e1-1c82b91108b8",
   "metadata": {},
   "outputs": [
    {
     "data": {
      "text/plain": [
       "array([0, 1, 2, 3])"
      ]
     },
     "execution_count": 50,
     "metadata": {},
     "output_type": "execute_result"
    }
   ],
   "source": [
    "a2[0,:]"
   ]
  },
  {
   "cell_type": "code",
   "execution_count": 52,
   "id": "da785ee9-135d-4ae5-a595-232dd77a027c",
   "metadata": {},
   "outputs": [
    {
     "data": {
      "text/plain": [
       "array([ 2,  6, 10])"
      ]
     },
     "execution_count": 52,
     "metadata": {},
     "output_type": "execute_result"
    }
   ],
   "source": [
    "a2[:,2]"
   ]
  },
  {
   "cell_type": "code",
   "execution_count": 54,
   "id": "f356080e-3e1c-4e21-a7db-10d3b4de59ff",
   "metadata": {},
   "outputs": [
    {
     "data": {
      "text/plain": [
       "array([[ 5,  6],\n",
       "       [ 9, 10]])"
      ]
     },
     "execution_count": 54,
     "metadata": {},
     "output_type": "execute_result"
    }
   ],
   "source": [
    "a2[1:,1:3]"
   ]
  },
  {
   "cell_type": "code",
   "execution_count": 56,
   "id": "25407421-e045-4a2f-90a0-5190adf4e57f",
   "metadata": {},
   "outputs": [
    {
     "data": {
      "text/plain": [
       "array([[ 0,  3],\n",
       "       [ 8, 11]])"
      ]
     },
     "execution_count": 56,
     "metadata": {},
     "output_type": "execute_result"
    }
   ],
   "source": [
    "a2[::2,::3]"
   ]
  },
  {
   "cell_type": "code",
   "execution_count": 58,
   "id": "83f7548b-dde5-4262-83ff-e7d564076892",
   "metadata": {},
   "outputs": [
    {
     "data": {
      "text/plain": [
       "array([[ 1,  3],\n",
       "       [ 9, 11]])"
      ]
     },
     "execution_count": 58,
     "metadata": {},
     "output_type": "execute_result"
    }
   ],
   "source": [
    "a2[::2,1::2]"
   ]
  },
  {
   "cell_type": "code",
   "execution_count": 60,
   "id": "67238086-26c3-4a91-9b29-d5f951039849",
   "metadata": {},
   "outputs": [
    {
     "data": {
      "text/plain": [
       "array([4, 7])"
      ]
     },
     "execution_count": 60,
     "metadata": {},
     "output_type": "execute_result"
    }
   ],
   "source": [
    "a2[1,::3]"
   ]
  },
  {
   "cell_type": "code",
   "execution_count": 64,
   "id": "298a21e7-3dba-4c1b-a673-a38c6b01e1a7",
   "metadata": {},
   "outputs": [
    {
     "data": {
      "text/plain": [
       "array([[1, 2, 3],\n",
       "       [5, 6, 7]])"
      ]
     },
     "execution_count": 64,
     "metadata": {},
     "output_type": "execute_result"
    }
   ],
   "source": [
    "a2[0:2,1:]"
   ]
  },
  {
   "cell_type": "code",
   "execution_count": 66,
   "id": "2916ab92-8c95-415e-9b06-ac0c352e820b",
   "metadata": {},
   "outputs": [],
   "source": [
    "a3 = np.arange(27).reshape(3,3,3)"
   ]
  },
  {
   "cell_type": "code",
   "execution_count": 68,
   "id": "775f23b5-677d-403f-8a8c-5d90c7ec7412",
   "metadata": {},
   "outputs": [
    {
     "data": {
      "text/plain": [
       "array([[[ 0,  1,  2],\n",
       "        [ 3,  4,  5],\n",
       "        [ 6,  7,  8]],\n",
       "\n",
       "       [[ 9, 10, 11],\n",
       "        [12, 13, 14],\n",
       "        [15, 16, 17]],\n",
       "\n",
       "       [[18, 19, 20],\n",
       "        [21, 22, 23],\n",
       "        [24, 25, 26]]])"
      ]
     },
     "execution_count": 68,
     "metadata": {},
     "output_type": "execute_result"
    }
   ],
   "source": [
    "a3"
   ]
  },
  {
   "cell_type": "code",
   "execution_count": 70,
   "id": "bd04ec98-e52b-47aa-8fab-50b674a0dd27",
   "metadata": {},
   "outputs": [
    {
     "data": {
      "text/plain": [
       "array([[ 9, 10, 11],\n",
       "       [12, 13, 14],\n",
       "       [15, 16, 17]])"
      ]
     },
     "execution_count": 70,
     "metadata": {},
     "output_type": "execute_result"
    }
   ],
   "source": [
    "a3[1]"
   ]
  },
  {
   "cell_type": "code",
   "execution_count": 72,
   "id": "adec42fb-f6c5-4888-92fe-2dc786f191b0",
   "metadata": {},
   "outputs": [
    {
     "data": {
      "text/plain": [
       "array([[[ 0,  1,  2],\n",
       "        [ 3,  4,  5],\n",
       "        [ 6,  7,  8]],\n",
       "\n",
       "       [[18, 19, 20],\n",
       "        [21, 22, 23],\n",
       "        [24, 25, 26]]])"
      ]
     },
     "execution_count": 72,
     "metadata": {},
     "output_type": "execute_result"
    }
   ],
   "source": [
    "a3[::2]"
   ]
  },
  {
   "cell_type": "code",
   "execution_count": 424,
   "id": "0d857f04-c4b8-4657-bb50-6a4db9ea1ff8",
   "metadata": {},
   "outputs": [
    {
     "data": {
      "text/plain": [
       "array([3, 4, 5])"
      ]
     },
     "execution_count": 424,
     "metadata": {},
     "output_type": "execute_result"
    }
   ],
   "source": [
    "a3[0,1,:]"
   ]
  },
  {
   "cell_type": "code",
   "execution_count": 426,
   "id": "091a0c10-787e-431b-851c-6d5820d2a5fe",
   "metadata": {},
   "outputs": [
    {
     "data": {
      "text/plain": [
       "array([10, 13, 16])"
      ]
     },
     "execution_count": 426,
     "metadata": {},
     "output_type": "execute_result"
    }
   ],
   "source": [
    "a3[1,:,1]"
   ]
  },
  {
   "cell_type": "code",
   "execution_count": 428,
   "id": "be6053e2-dff0-469c-bf6b-5cc2ef969836",
   "metadata": {},
   "outputs": [
    {
     "data": {
      "text/plain": [
       "array([[22, 23],\n",
       "       [25, 26]])"
      ]
     },
     "execution_count": 428,
     "metadata": {},
     "output_type": "execute_result"
    }
   ],
   "source": [
    "a3[2,1:,1:]"
   ]
  },
  {
   "cell_type": "code",
   "execution_count": 430,
   "id": "f9657840-3b8d-4ad8-a204-69decc25a188",
   "metadata": {},
   "outputs": [
    {
     "data": {
      "text/plain": [
       "array([[ 0,  2],\n",
       "       [18, 20]])"
      ]
     },
     "execution_count": 430,
     "metadata": {},
     "output_type": "execute_result"
    }
   ],
   "source": [
    "a3[::2,0,::2]"
   ]
  },
  {
   "cell_type": "code",
   "execution_count": 432,
   "id": "adb9b2cd-9a91-4486-bbb7-de395c79702c",
   "metadata": {},
   "outputs": [
    {
     "data": {
      "text/plain": [
       "array([[ 9, 10, 11],\n",
       "       [12, 13, 14],\n",
       "       [15, 16, 17]])"
      ]
     },
     "execution_count": 432,
     "metadata": {},
     "output_type": "execute_result"
    }
   ],
   "source": [
    "a3[1]"
   ]
  },
  {
   "cell_type": "code",
   "execution_count": 74,
   "id": "15ac51e0-5912-4980-a2c3-ea443dcafc10",
   "metadata": {},
   "outputs": [
    {
     "name": "stdout",
     "output_type": "stream",
     "text": [
      "[[0 1 2]\n",
      " [3 4 5]\n",
      " [6 7 8]]\n",
      "[[ 9 10 11]\n",
      " [12 13 14]\n",
      " [15 16 17]]\n",
      "[[18 19 20]\n",
      " [21 22 23]\n",
      " [24 25 26]]\n"
     ]
    }
   ],
   "source": [
    "for i in a3:\n",
    "    print(i)"
   ]
  },
  {
   "cell_type": "code",
   "execution_count": 76,
   "id": "a694d0ee-6ca2-46f8-aef3-ec51b6e80c79",
   "metadata": {},
   "outputs": [
    {
     "name": "stdout",
     "output_type": "stream",
     "text": [
      "0\n",
      "1\n",
      "2\n",
      "3\n",
      "4\n",
      "5\n",
      "6\n",
      "7\n",
      "8\n",
      "9\n",
      "10\n",
      "11\n",
      "12\n",
      "13\n",
      "14\n",
      "15\n",
      "16\n",
      "17\n",
      "18\n",
      "19\n",
      "20\n",
      "21\n",
      "22\n",
      "23\n",
      "24\n",
      "25\n",
      "26\n"
     ]
    }
   ],
   "source": [
    "for i in np.nditer(a3):\n",
    "    print(i)"
   ]
  },
  {
   "cell_type": "code",
   "execution_count": 78,
   "id": "bb6c7339-d048-40dc-9786-d568b45619be",
   "metadata": {},
   "outputs": [
    {
     "data": {
      "text/plain": [
       "array([[ 0,  1,  2,  3],\n",
       "       [ 4,  5,  6,  7],\n",
       "       [ 8,  9, 10, 11]])"
      ]
     },
     "execution_count": 78,
     "metadata": {},
     "output_type": "execute_result"
    }
   ],
   "source": [
    "a2"
   ]
  },
  {
   "cell_type": "code",
   "execution_count": 80,
   "id": "63624add-bb2b-4e09-a04a-cf8993a27e98",
   "metadata": {},
   "outputs": [
    {
     "data": {
      "text/plain": [
       "array([[ 0,  4,  8],\n",
       "       [ 1,  5,  9],\n",
       "       [ 2,  6, 10],\n",
       "       [ 3,  7, 11]])"
      ]
     },
     "execution_count": 80,
     "metadata": {},
     "output_type": "execute_result"
    }
   ],
   "source": [
    "np.transpose(a2)"
   ]
  },
  {
   "cell_type": "code",
   "execution_count": 82,
   "id": "f77378ef-9f40-4d92-954f-ebeb5f409954",
   "metadata": {},
   "outputs": [
    {
     "data": {
      "text/plain": [
       "array([[ 0,  4,  8],\n",
       "       [ 1,  5,  9],\n",
       "       [ 2,  6, 10],\n",
       "       [ 3,  7, 11]])"
      ]
     },
     "execution_count": 82,
     "metadata": {},
     "output_type": "execute_result"
    }
   ],
   "source": [
    "a2.T"
   ]
  },
  {
   "cell_type": "code",
   "execution_count": 84,
   "id": "60a5eb8c-2ae9-4987-b785-aad3f01f50b4",
   "metadata": {},
   "outputs": [],
   "source": [
    "#Stacking"
   ]
  },
  {
   "cell_type": "code",
   "execution_count": 96,
   "id": "55fe6dac-f0db-4c04-95d3-896d49fa754e",
   "metadata": {},
   "outputs": [],
   "source": [
    "a4 = np.arange(12,24).reshape(3,4)"
   ]
  },
  {
   "cell_type": "code",
   "execution_count": 98,
   "id": "fa11d0df-31ec-4c3c-b680-ddc7466636e3",
   "metadata": {},
   "outputs": [
    {
     "data": {
      "text/plain": [
       "array([[12, 13, 14, 15],\n",
       "       [16, 17, 18, 19],\n",
       "       [20, 21, 22, 23]])"
      ]
     },
     "execution_count": 98,
     "metadata": {},
     "output_type": "execute_result"
    }
   ],
   "source": [
    "a4"
   ]
  },
  {
   "cell_type": "code",
   "execution_count": 104,
   "id": "97b5d846-5d0a-4b90-8337-d45bf708ae43",
   "metadata": {},
   "outputs": [
    {
     "data": {
      "text/plain": [
       "array([12, 13, 14, 15, 16, 17, 18, 19, 20, 21, 22, 23])"
      ]
     },
     "execution_count": 104,
     "metadata": {},
     "output_type": "execute_result"
    }
   ],
   "source": [
    "np.hstack(a4)"
   ]
  },
  {
   "cell_type": "code",
   "execution_count": 112,
   "id": "beac658a-9289-4403-b198-e8a5d44a9dcd",
   "metadata": {},
   "outputs": [
    {
     "data": {
      "text/plain": [
       "array([[12, 13, 14, 15],\n",
       "       [16, 17, 18, 19],\n",
       "       [20, 21, 22, 23]])"
      ]
     },
     "execution_count": 112,
     "metadata": {},
     "output_type": "execute_result"
    }
   ],
   "source": [
    "np.vstack(a4)"
   ]
  },
  {
   "cell_type": "code",
   "execution_count": 126,
   "id": "361147d1-9eba-4c54-ac4c-f2416cffec84",
   "metadata": {},
   "outputs": [
    {
     "data": {
      "text/plain": [
       "[array([[12],\n",
       "        [16],\n",
       "        [20]]),\n",
       " array([[13],\n",
       "        [17],\n",
       "        [21]]),\n",
       " array([[14],\n",
       "        [18],\n",
       "        [22]]),\n",
       " array([[15],\n",
       "        [19],\n",
       "        [23]])]"
      ]
     },
     "execution_count": 126,
     "metadata": {},
     "output_type": "execute_result"
    }
   ],
   "source": [
    "np.hsplit(a4,4)"
   ]
  },
  {
   "cell_type": "code",
   "execution_count": 130,
   "id": "07c4f0e2-ebc0-44a7-94ce-700e46157cfd",
   "metadata": {},
   "outputs": [
    {
     "data": {
      "text/plain": [
       "[array([[12, 13],\n",
       "        [16, 17],\n",
       "        [20, 21]]),\n",
       " array([[14, 15],\n",
       "        [18, 19],\n",
       "        [22, 23]])]"
      ]
     },
     "execution_count": 130,
     "metadata": {},
     "output_type": "execute_result"
    }
   ],
   "source": [
    "np.hsplit(a4,2)"
   ]
  },
  {
   "cell_type": "code",
   "execution_count": 147,
   "id": "6cdf7748-625f-4100-bc35-83004091972f",
   "metadata": {},
   "outputs": [
    {
     "name": "stdout",
     "output_type": "stream",
     "text": [
      "4.531491994857788\n"
     ]
    }
   ],
   "source": [
    "a = [i for i in range(10000000)]\n",
    "b = [i for i in range(10000000,20000000)]\n",
    "c = []\n",
    "\n",
    "import time\n",
    "\n",
    "start = time.time()\n",
    "\n",
    "for i in range(len(a)):\n",
    "     c.append(a[i]+b[i])\n",
    "\n",
    "print(time.time()-start)"
   ]
  },
  {
   "cell_type": "code",
   "execution_count": 149,
   "id": "bc40b434-21b3-42d9-94fd-c82d6464bbc7",
   "metadata": {},
   "outputs": [],
   "source": [
    "import numpy as np"
   ]
  },
  {
   "cell_type": "code",
   "execution_count": 151,
   "id": "7e848bae-5716-4a7a-8326-8cef49d99b7c",
   "metadata": {},
   "outputs": [
    {
     "name": "stdout",
     "output_type": "stream",
     "text": [
      "0.469616174697876\n"
     ]
    }
   ],
   "source": [
    "a = [i for i in range(10000000)]\n",
    "b = [i for i in range(10000000,20000000)]\n",
    "\n",
    "start = time.time()\n",
    "c = a+b\n",
    "\n",
    "print(time.time()-start)"
   ]
  },
  {
   "cell_type": "code",
   "execution_count": 153,
   "id": "a7c1346c-45cd-4610-92e7-77dac41c964b",
   "metadata": {},
   "outputs": [
    {
     "data": {
      "text/plain": [
       "9.847826086956522"
      ]
     },
     "execution_count": 153,
     "metadata": {},
     "output_type": "execute_result"
    }
   ],
   "source": [
    "4.53/0.46"
   ]
  },
  {
   "cell_type": "code",
   "execution_count": 155,
   "id": "f7beaf5e-0bad-4823-8450-34a5c584a88b",
   "metadata": {},
   "outputs": [],
   "source": [
    "#Fancy Index"
   ]
  },
  {
   "cell_type": "code",
   "execution_count": 159,
   "id": "38da916e-ba59-41fa-ae91-8d14a4321938",
   "metadata": {},
   "outputs": [],
   "source": [
    "a = np.arange(12).reshape(4,3)"
   ]
  },
  {
   "cell_type": "code",
   "execution_count": 161,
   "id": "96234afc-3faf-42db-8536-e642974c3ec2",
   "metadata": {},
   "outputs": [
    {
     "data": {
      "text/plain": [
       "array([[ 0,  1,  2],\n",
       "       [ 3,  4,  5],\n",
       "       [ 6,  7,  8],\n",
       "       [ 9, 10, 11]])"
      ]
     },
     "execution_count": 161,
     "metadata": {},
     "output_type": "execute_result"
    }
   ],
   "source": [
    "a"
   ]
  },
  {
   "cell_type": "code",
   "execution_count": 167,
   "id": "50e1899d-9b78-4480-b366-3dcb8cb0185c",
   "metadata": {},
   "outputs": [
    {
     "data": {
      "text/plain": [
       "5"
      ]
     },
     "execution_count": 167,
     "metadata": {},
     "output_type": "execute_result"
    }
   ],
   "source": [
    "a[1,2]"
   ]
  },
  {
   "cell_type": "code",
   "execution_count": 169,
   "id": "b474c650-5b19-4a22-afab-bfdd8eff0fca",
   "metadata": {},
   "outputs": [
    {
     "data": {
      "text/plain": [
       "array([[4, 5],\n",
       "       [7, 8]])"
      ]
     },
     "execution_count": 169,
     "metadata": {},
     "output_type": "execute_result"
    }
   ],
   "source": [
    "a[1:3,1:3]"
   ]
  },
  {
   "cell_type": "code",
   "execution_count": 171,
   "id": "5475aa7c-6f07-4658-bbe6-4bf076ef7e3e",
   "metadata": {},
   "outputs": [
    {
     "data": {
      "text/plain": [
       "array([[0, 1, 2],\n",
       "       [6, 7, 8]])"
      ]
     },
     "execution_count": 171,
     "metadata": {},
     "output_type": "execute_result"
    }
   ],
   "source": [
    "a[::2]"
   ]
  },
  {
   "cell_type": "code",
   "execution_count": 173,
   "id": "0382cc4b-3c1e-4809-9014-fa1b0f593c1f",
   "metadata": {},
   "outputs": [],
   "source": [
    "b = np.arange(24).reshape(6,4)"
   ]
  },
  {
   "cell_type": "code",
   "execution_count": 175,
   "id": "d53bdbe4-52ac-47ad-bf6e-a968d3186aec",
   "metadata": {},
   "outputs": [
    {
     "data": {
      "text/plain": [
       "array([[ 0,  1,  2,  3],\n",
       "       [ 4,  5,  6,  7],\n",
       "       [ 8,  9, 10, 11],\n",
       "       [12, 13, 14, 15],\n",
       "       [16, 17, 18, 19],\n",
       "       [20, 21, 22, 23]])"
      ]
     },
     "execution_count": 175,
     "metadata": {},
     "output_type": "execute_result"
    }
   ],
   "source": [
    "b"
   ]
  },
  {
   "cell_type": "code",
   "execution_count": 182,
   "id": "81deb9e7-c7f7-4abe-a493-18124ba9697f",
   "metadata": {},
   "outputs": [
    {
     "data": {
      "text/plain": [
       "array([[ 0,  1,  2],\n",
       "       [ 6,  7,  8],\n",
       "       [ 9, 10, 11]])"
      ]
     },
     "execution_count": 182,
     "metadata": {},
     "output_type": "execute_result"
    }
   ],
   "source": [
    "a[[0,2,3]]"
   ]
  },
  {
   "cell_type": "code",
   "execution_count": 186,
   "id": "8042baad-b615-4ac6-b4ee-69b6e66464fa",
   "metadata": {},
   "outputs": [],
   "source": [
    "#boolean indexing\n"
   ]
  },
  {
   "cell_type": "code",
   "execution_count": 192,
   "id": "52883793-16e6-472d-9472-a92ca10d7efb",
   "metadata": {},
   "outputs": [],
   "source": [
    "a = np.random.randint(1,100,24).reshape(6,4)"
   ]
  },
  {
   "cell_type": "code",
   "execution_count": 194,
   "id": "c1455085-57f7-4258-94a7-f58f8eedc4d9",
   "metadata": {},
   "outputs": [
    {
     "data": {
      "text/plain": [
       "array([[44, 48, 11, 24],\n",
       "       [52, 92, 78, 34],\n",
       "       [64, 65, 69, 77],\n",
       "       [ 3,  6, 13, 66],\n",
       "       [72, 13, 99, 52],\n",
       "       [92, 55, 67, 61]])"
      ]
     },
     "execution_count": 194,
     "metadata": {},
     "output_type": "execute_result"
    }
   ],
   "source": [
    "a"
   ]
  },
  {
   "cell_type": "code",
   "execution_count": 196,
   "id": "29c9ca2d-7c19-4da1-b985-8f19f0e82b58",
   "metadata": {},
   "outputs": [],
   "source": [
    "#find all  numbers greater than 50"
   ]
  },
  {
   "cell_type": "code",
   "execution_count": 198,
   "id": "decde907-7820-47ae-89c4-0a71059d2741",
   "metadata": {},
   "outputs": [
    {
     "data": {
      "text/plain": [
       "array([[False, False, False, False],\n",
       "       [ True,  True,  True, False],\n",
       "       [ True,  True,  True,  True],\n",
       "       [False, False, False,  True],\n",
       "       [ True, False,  True,  True],\n",
       "       [ True,  True,  True,  True]])"
      ]
     },
     "execution_count": 198,
     "metadata": {},
     "output_type": "execute_result"
    }
   ],
   "source": [
    "a>50"
   ]
  },
  {
   "cell_type": "code",
   "execution_count": 200,
   "id": "fc2290cc-441f-4091-8a4d-c682517d1633",
   "metadata": {},
   "outputs": [
    {
     "data": {
      "text/plain": [
       "array([52, 92, 78, 64, 65, 69, 77, 66, 72, 99, 52, 92, 55, 67, 61])"
      ]
     },
     "execution_count": 200,
     "metadata": {},
     "output_type": "execute_result"
    }
   ],
   "source": [
    "a[a>50]"
   ]
  },
  {
   "cell_type": "code",
   "execution_count": 202,
   "id": "55252728-e504-45ff-933f-96e9b95b233d",
   "metadata": {},
   "outputs": [],
   "source": [
    "#find out even number"
   ]
  },
  {
   "cell_type": "code",
   "execution_count": 204,
   "id": "2bc6623f-1672-4324-aa9f-80f2ec0bb0c4",
   "metadata": {},
   "outputs": [
    {
     "data": {
      "text/plain": [
       "array([[44, 48, 11, 24],\n",
       "       [52, 92, 78, 34],\n",
       "       [64, 65, 69, 77],\n",
       "       [ 3,  6, 13, 66],\n",
       "       [72, 13, 99, 52],\n",
       "       [92, 55, 67, 61]])"
      ]
     },
     "execution_count": 204,
     "metadata": {},
     "output_type": "execute_result"
    }
   ],
   "source": [
    "a"
   ]
  },
  {
   "cell_type": "code",
   "execution_count": 206,
   "id": "ebc271a5-2e99-4036-ac16-1efe34088f2d",
   "metadata": {},
   "outputs": [
    {
     "data": {
      "text/plain": [
       "array([44, 48, 24, 52, 92, 78, 34, 64,  6, 66, 72, 52, 92])"
      ]
     },
     "execution_count": 206,
     "metadata": {},
     "output_type": "execute_result"
    }
   ],
   "source": [
    "a[a%2==0]"
   ]
  },
  {
   "cell_type": "code",
   "execution_count": 208,
   "id": "aa609d34-487c-4efd-a8af-fa1b904b2ef2",
   "metadata": {},
   "outputs": [],
   "source": [
    "#find all number greater then 50 and equal"
   ]
  },
  {
   "cell_type": "code",
   "execution_count": 212,
   "id": "c546ea9b-db82-4717-91fe-dd0c2007fec0",
   "metadata": {},
   "outputs": [
    {
     "data": {
      "text/plain": [
       "array([52, 92, 78, 64, 66, 72, 52, 92])"
      ]
     },
     "execution_count": 212,
     "metadata": {},
     "output_type": "execute_result"
    }
   ],
   "source": [
    "a[(a>50) & (a%2==0)]"
   ]
  },
  {
   "cell_type": "code",
   "execution_count": null,
   "id": "48254451-4f6e-4fe5-b387-1e1815bfb586",
   "metadata": {},
   "outputs": [],
   "source": []
  }
 ],
 "metadata": {
  "kernelspec": {
   "display_name": "Python 3 (ipykernel)",
   "language": "python",
   "name": "python3"
  },
  "language_info": {
   "codemirror_mode": {
    "name": "ipython",
    "version": 3
   },
   "file_extension": ".py",
   "mimetype": "text/x-python",
   "name": "python",
   "nbconvert_exporter": "python",
   "pygments_lexer": "ipython3",
   "version": "3.12.4"
  }
 },
 "nbformat": 4,
 "nbformat_minor": 5
}
