{
 "cells": [
  {
   "cell_type": "markdown",
   "id": "5314edeb-762b-4273-89d1-235025cc6a67",
   "metadata": {},
   "source": [
    "1. Write a Python program to find the second largest number in \n",
    "a list without using the sort() method."
   ]
  },
  {
   "cell_type": "code",
   "execution_count": null,
   "id": "68a5c3e2-6614-4aae-809b-7c1c83e1d917",
   "metadata": {},
   "outputs": [],
   "source": [
    "list=[1,2,3,4,5,6,7,8,9,10,50,40,70,90,100,61,99]\n",
    "first_number=list[0]\n",
    "second_number=list[0]\n",
    "for num in list:\n",
    "    if num>first_number:#agr number phli wali number se badi hai  to swape kar new number ko first priority par rakh denge\n",
    "        first_number=num\n",
    "\n",
    "for num in list:\n",
    "    if num!=first_number:\n",
    "        if num>second_number:\n",
    "            second_number=num\n",
    "print(second_number)"
   ]
  },
  {
   "cell_type": "markdown",
   "id": "e9635ac4-fcdf-4ec3-b83d-6f166dfe4fe8",
   "metadata": {},
   "source": [
    "2. Remove duplicates from a list without using set() and \n",
    "return it in sorted order."
   ]
  },
  {
   "cell_type": "code",
   "execution_count": null,
   "id": "4df389b0-9e07-4e0b-b290-ad618fcb598c",
   "metadata": {},
   "outputs": [],
   "source": [
    "list=[1,2,3,4,5,6,7,8,9,10,1,5,9,11,55,21]\n",
    "unique_number=[]\n",
    "for num in list:\n",
    "    if num not in unique_number:\n",
    "        unique_number.append(num)\n",
    "\n",
    "unique_number.sort()\n",
    "print(unique_number)"
   ]
  },
  {
   "cell_type": "markdown",
   "id": "5aec76e6-8324-485d-8159-c0a530840d9d",
   "metadata": {},
   "source": [
    "3. Find the sum and average of a list of numbers.\n"
   ]
  },
  {
   "cell_type": "code",
   "execution_count": null,
   "id": "9a8685ec-6642-42d9-a7a0-a96644723ff7",
   "metadata": {},
   "outputs": [],
   "source": [
    "list=[1,2,3,4,5,6,7,8,9]\n",
    "sum=0\n",
    "for num in list:\n",
    "    sum=sum+num\n",
    "    average=sum/len(list)\n",
    "print(sum)\n",
    "print(average)"
   ]
  },
  {
   "cell_type": "markdown",
   "id": "5765b4c3-9c8e-4b18-820f-ad5a5b29590f",
   "metadata": {},
   "source": [
    "4. Create a program to check if a number is prime."
   ]
  },
  {
   "cell_type": "code",
   "execution_count": null,
   "id": "b969722a-6158-469e-8048-437b59693343",
   "metadata": {},
   "outputs": [],
   "source": [
    "number=int(input(\"enter a number\"))\n",
    "if number<=1:\n",
    "    print(\"number is not prime\")\n",
    "else:\n",
    "    is_prime=True\n",
    "    for i in range(2,num):\n",
    "        if num%i==0:\n",
    "            is_prime=False\n",
    "            break\n",
    "    if is_prime:\n",
    "        print(num,\"is prime number\")\n",
    "    else:\n",
    "        print(num,\"is not prime number\")"
   ]
  },
  {
   "cell_type": "markdown",
   "id": "9d3c6ae3-34f6-4a0b-9694-2eb8a9196a91",
   "metadata": {},
   "source": [
    "5. Count the number of vowels, consonants, digits, and special \n",
    "characters in a given string. \n",
    "\n"
   ]
  },
  {
   "cell_type": "code",
   "execution_count": null,
   "id": "a3e5b324-2dda-43c3-a624-413aee4501cd",
   "metadata": {},
   "outputs": [],
   "source": [
    "text = input(\"Enter a string: \")\n",
    "\n",
    "vowels = 0\n",
    "consonants = 0\n",
    "digits = 0\n",
    "special = 0\n",
    "\n",
    "for char in text:\n",
    "    if char.isalpha():  # agar alphabet hai\n",
    "        if char.lower() in \"aeiou\":  # vowels check kar rahe\n",
    "            vowels += 1\n",
    "        else:\n",
    "            consonants += 1\n",
    "    elif char.isdigit():  # number hai kya\n",
    "        digits += 1\n",
    "    else:  # baaki sab special characters\n",
    "        special += 1\n",
    "\n",
    "print(\"Vowels:\", vowels)\n",
    "print(\"Consonants:\", consonants)\n",
    "print(\"Digits:\", digits)\n",
    "\n",
    "print(\"Special characters:\", special)\n"
   ]
  },
  {
   "cell_type": "markdown",
   "id": "84ebb75e-ff6a-46a0-b4aa-c1de9e74f221",
   "metadata": {},
   "source": [
    "6. Print all even numbers between 1 and 100 using a for loop. "
   ]
  },
  {
   "cell_type": "code",
   "execution_count": null,
   "id": "65684d99-7ecc-4859-8b56-e9dfd0fe9a51",
   "metadata": {},
   "outputs": [],
   "source": [
    "for i in range(1, 101):\n",
    "    if i % 2 == 0:  # even number hai kya\n",
    "        print(i)\n"
   ]
  },
  {
   "cell_type": "markdown",
   "id": "987f6992-dda9-4833-acd5-d4e5ac5361ec",
   "metadata": {},
   "source": [
    "7. Write a program to print the multiplication table of a number \n",
    "entered by the user. "
   ]
  },
  {
   "cell_type": "code",
   "execution_count": null,
   "id": "9645ac86-6b4c-436a-b39b-5cb8adf94ca3",
   "metadata": {},
   "outputs": [],
   "source": [
    "num = int(input(\"Enter a number: \"))\n",
    "\n",
    "for i in range(1, 11):\n",
    "    print(num, \"x\", i, \"=\", num * i)\n"
   ]
  },
  {
   "cell_type": "markdown",
   "id": "2438e8b2-1573-47f8-b926-fa218a1318f2",
   "metadata": {},
   "source": [
    "8. Create a list of numbers from 1 to 100 that are divisible by \n",
    "both 3 and 5."
   ]
  },
  {
   "cell_type": "code",
   "execution_count": null,
   "id": "c77fdbc0-4f53-47e6-87ed-b922c9ba5455",
   "metadata": {},
   "outputs": [],
   "source": [
    "numbers = []\n",
    "\n",
    "for i in range(1, 101):\n",
    "    if i % 3 == 0 and i % 5 == 0:  # dono se divide ho raha hai\n",
    "        numbers.append(i)\n",
    "\n",
    "print(numbers)\n"
   ]
  },
  {
   "cell_type": "markdown",
   "id": "a707c961-87ae-447e-8a4e-529133e61e86",
   "metadata": {},
   "source": [
    "9. Take a number input and print its reverse."
   ]
  },
  {
   "cell_type": "code",
   "execution_count": null,
   "id": "bd010bc5-5f2e-43f8-802d-4d87bda180c5",
   "metadata": {},
   "outputs": [],
   "source": [
    "num = input(\"Enter a number: \")\n",
    "\n",
    "reverse_num = num[::-1]  # ulta kar diya string ko\n",
    "\n",
    "print(\"Reversed number:\", reverse_num)\n"
   ]
  },
  {
   "cell_type": "markdown",
   "id": "04121fd2-dfb8-44ac-a0a8-7e84f38bdb92",
   "metadata": {},
   "source": [
    "10. Count the frequency of each character in a string and \n",
    "store it in a dictionary."
   ]
  },
  {
   "cell_type": "code",
   "execution_count": null,
   "id": "41a6290f-2987-4686-a28f-accbe63f4b04",
   "metadata": {},
   "outputs": [],
   "source": [
    "text = input(\"Enter a string: \")\n",
    "\n",
    "freq = {}\n",
    "\n",
    "for char in text:\n",
    "    if char in freq:\n",
    "        freq[char] += 1  # pehle se hai to count badhao\n",
    "    else:\n",
    "        freq[char] = 1  # pehli baar mila to 1 se start karo\n",
    "\n",
    "print(freq)\n"
   ]
  },
  {
   "cell_type": "markdown",
   "id": "7be198e4-2666-48fd-aba4-e759cf77d338",
   "metadata": {},
   "source": [
    "11. Write a Python program to generate the first n prime \n",
    "numbers."
   ]
  },
  {
   "cell_type": "code",
   "execution_count": null,
   "id": "14d728ce-9802-4039-b64e-b4ab62dde280",
   "metadata": {},
   "outputs": [],
   "source": [
    "n = int(input(\"Enter how many prime numbers you want: \"))\n",
    "\n",
    "count = 0\n",
    "num = 2\n",
    "primes = []\n",
    "\n",
    "while count < n:\n",
    "    is_prime = True\n",
    "    for i in range(2, num):\n",
    "        if num % i == 0:  # prime nahi hai\n",
    "            is_prime = False\n",
    "            break\n",
    "    if is_prime:\n",
    "        primes.append(num)\n",
    "        count += 1\n",
    "    num += 1\n",
    "\n",
    "print(primes)\n"
   ]
  },
  {
   "cell_type": "markdown",
   "id": "6ca7dfa5-a28b-4ae6-bbf4-15021bc63327",
   "metadata": {},
   "source": [
    "12. Check whether a number is a palindrome or not."
   ]
  },
  {
   "cell_type": "code",
   "execution_count": null,
   "id": "2626f9fb-f3ad-4ca5-8b08-147daa4f7c51",
   "metadata": {},
   "outputs": [],
   "source": [
    "num = input(\"Enter a number: \")\n",
    "\n",
    "if num == num[::-1]:  # ulta bhi same hai kya\n",
    "    print(\"Palindrome hai\")\n",
    "else:\n",
    "    print(\"Palindrome nahi hai\")\n"
   ]
  },
  {
   "cell_type": "markdown",
   "id": "0ae421da-e690-4032-a4be-af099fa51655",
   "metadata": {},
   "source": [
    "13. Count how many times a specific element appears in a \n",
    "list.\n"
   ]
  },
  {
   "cell_type": "code",
   "execution_count": null,
   "id": "a1054830-9731-427c-9f33-d98eaf6c0199",
   "metadata": {},
   "outputs": [],
   "source": [
    "elements = [1, 2, 3, 4, 2, 3, 2, 5]\n",
    "x = int(input(\"Kaunsa number count karna hai: \"))\n",
    "\n",
    "count = 0\n",
    "\n",
    "for i in elements:\n",
    "    if i == x:\n",
    "        count += 1  # jab match mile to count badhao\n",
    "\n",
    "print(x, \"appears\", count, \"times in the list\")\n"
   ]
  },
  {
   "cell_type": "markdown",
   "id": "dd1c63df-21d9-4321-8683-749f4a58138a",
   "metadata": {},
   "source": [
    "14. Create a list of squares of even numbers between 1 and \n",
    "50."
   ]
  },
  {
   "cell_type": "code",
   "execution_count": null,
   "id": "d45280bd-0f06-4de3-b0bf-51b7061fac11",
   "metadata": {},
   "outputs": [],
   "source": [
    "squares = []\n",
    "\n",
    "for i in range(1, 51):\n",
    "    if i % 2 == 0:  # even number check karo\n",
    "        squares.append(i**2)  # square karke list mein daalo\n",
    "\n",
    "print(squares)\n"
   ]
  },
  {
   "cell_type": "markdown",
   "id": "df88b5ff-78a9-477a-bca6-46f70f85bae4",
   "metadata": {},
   "source": [
    "15. Accept a list and return a new list with only unique \n",
    "elements (preserve order)."
   ]
  },
  {
   "cell_type": "code",
   "execution_count": null,
   "id": "ffe27869-8f2f-42cf-9dfc-adc50a375039",
   "metadata": {},
   "outputs": [],
   "source": [
    "original = [1, 2, 2, 3, 4, 3, 5, 1]\n",
    "unique = []\n",
    "\n",
    "for item in original:\n",
    "    if item not in unique:  # agar pehle se nahi hai to add karo\n",
    "        unique.append(item)\n",
    "\n",
    "print(unique)\n"
   ]
  },
  {
   "cell_type": "raw",
   "id": "08aaa825-acdb-4885-ac1f-85bde34eb316",
   "metadata": {},
   "source": [
    "�\n",
    "�\n",
    " Section B: Functions (Q16–Q30)"
   ]
  },
  {
   "cell_type": "markdown",
   "id": "79813471-5bbb-4f9b-b9ba-358a898ca8c5",
   "metadata": {},
   "source": [
    "\n",
    "\n",
    "16. Write a function to check if a number is even or odd. "
   ]
  },
  {
   "cell_type": "code",
   "execution_count": null,
   "id": "b5faecfa-2a15-4fd6-bc5b-391bf13fa47f",
   "metadata": {},
   "outputs": [],
   "source": [
    "def check_even_odd(num):\n",
    "    if num % 2 == 0:\n",
    "        return \"Even\"\n",
    "    else:\n",
    "        return \"Odd\"\n",
    "\n",
    "\n",
    "number = int(input(\"Enter a number: \"))\n",
    "print(check_even_odd(number))\n"
   ]
  },
  {
   "cell_type": "markdown",
   "id": "d77b311b-fa08-48ea-a4e9-fd654d9c387b",
   "metadata": {},
   "source": [
    "17. Create a function that takes a list of numbers and returns \n",
    "their cumulative sum.\n",
    "\n",
    "\n"
   ]
  },
  {
   "cell_type": "code",
   "execution_count": null,
   "id": "92424ebd-5f93-4353-b70c-76149182c1dd",
   "metadata": {},
   "outputs": [],
   "source": [
    "def cumulative_sum(numbers):\n",
    "    result = []\n",
    "    total = 0\n",
    "    for num in numbers:\n",
    "        total += num  # ab tak ka sum\n",
    "        result.append(total)\n",
    "    return result\n",
    "\n",
    "\n",
    "nums = [1, 2, 3, 4]\n",
    "print(cumulative_sum(nums))\n"
   ]
  },
  {
   "cell_type": "markdown",
   "id": "a4cd31f4-6cae-4d54-8654-884447944867",
   "metadata": {},
   "source": [
    "\n",
    "18. Write a recursive function to find the factorial of a number. "
   ]
  },
  {
   "cell_type": "code",
   "execution_count": null,
   "id": "d7571d96-ff00-46e7-b8c2-de9b605feca1",
   "metadata": {},
   "outputs": [],
   "source": [
    "def factorial(n):\n",
    "    if n == 0 or n == 1:\n",
    "        return 1\n",
    "    else:\n",
    "        return n * factorial(n-1)\n",
    "\n",
    "\n",
    "num = int(input(\"Enter a number: \"))\n",
    "print(\"Factorial:\", factorial(num))\n"
   ]
  },
  {
   "cell_type": "markdown",
   "id": "1a39f56a-6688-4356-b716-e658b8799ced",
   "metadata": {},
   "source": [
    "19. Write a function to print the Fibonacci series up to n terms. "
   ]
  },
  {
   "cell_type": "code",
   "execution_count": null,
   "id": "643f8ea0-7164-44ee-bd68-d16cbf170870",
   "metadata": {},
   "outputs": [],
   "source": [
    "def factorial(n):\n",
    "    if n == 0 or n == 1:\n",
    "        return 1\n",
    "    else:\n",
    "        return n * factorial(n-1)\n",
    "\n",
    "\n",
    "num = int(input(\"Enter a number: \"))\n",
    "print(\"Factorial:\", factorial(num))\n"
   ]
  },
  {
   "cell_type": "markdown",
   "id": "b5fcf850-3505-477b-8b73-962a057a7c2a",
   "metadata": {},
   "source": [
    "20. Define a function that checks if a given string is a \n",
    "palindrome."
   ]
  },
  {
   "cell_type": "code",
   "execution_count": null,
   "id": "c5975617-3c13-4c17-950a-8c4ab0e54d6f",
   "metadata": {},
   "outputs": [],
   "source": [
    "def is_palindrome(s):\n",
    "    return s == s[::-1]\n",
    "\n",
    "text = input(\"Enter a string: \")\n",
    "if is_palindrome(text):\n",
    "    print(\"Palindrome hai\")\n",
    "else:\n",
    "    print(\"Palindrome nahi hai\")\n"
   ]
  },
  {
   "cell_type": "markdown",
   "id": "e0c277da-f41a-42e0-8562-1f3f96eb0c5c",
   "metadata": {},
   "source": [
    "21. Create a function that returns the maximum and minimum \n",
    "elements from a list."
   ]
  },
  {
   "cell_type": "code",
   "execution_count": null,
   "id": "5c192a91-920c-42d0-86ec-0e4646cd6ee6",
   "metadata": {},
   "outputs": [],
   "source": [
    "def max_min(lst):\n",
    "    maximum = lst[0]\n",
    "    minimum = lst[0]\n",
    "\n",
    "    for num in lst:\n",
    "        if num > maximum:\n",
    "            maximum = num\n",
    "        if num < minimum:\n",
    "            minimum = num\n",
    "\n",
    "    return maximum, minimum\n",
    "\n",
    "numbers = [10, 5, 20, 3, 7]\n",
    "max_num, min_num = max_min(numbers)\n",
    "print(\"Max:\", max_num)\n",
    "print(\"Min:\", min_num)\n"
   ]
  },
  {
   "cell_type": "markdown",
   "id": "8d03dd7f-a756-46de-b19b-12793d9a61cf",
   "metadata": {},
   "source": [
    "22. Write a function to check whether a string is a pangram."
   ]
  },
  {
   "cell_type": "code",
   "execution_count": null,
   "id": "f78182e5-a2c1-4819-bf84-7c4e15d2d24e",
   "metadata": {},
   "outputs": [],
   "source": [
    "def is_pangram(s):\n",
    "    s = s.lower()\n",
    "    alphabets = \"abcdefghijklmnopqrstuvwxyz\"\n",
    "    for char in alphabets:\n",
    "        if char not in s:\n",
    "            return False\n",
    "    return True\n",
    "\n",
    "text = input(\"Enter a string: \")\n",
    "if is_pangram(text):\n",
    "    print(\"Pangram hai\")\n",
    "else:\n",
    "    print(\"Pangram nahi hai\")\n"
   ]
  },
  {
   "cell_type": "markdown",
   "id": "152c7c0a-e8f9-405b-9868-be739c270e3a",
   "metadata": {},
   "source": [
    "23. Create a function that finds and returns all prime numbers \n",
    "in a given range. "
   ]
  },
  {
   "cell_type": "code",
   "execution_count": null,
   "id": "dbd2eab3-6a8e-48fb-abb6-a90cb12db000",
   "metadata": {},
   "outputs": [],
   "source": [
    "def primes_in_range(start, end):\n",
    "    primes = []\n",
    "    for num in range(start, end + 1):\n",
    "        if num > 1:\n",
    "            is_prime = True\n",
    "            for i in range(2, num):\n",
    "                if num % i == 0:\n",
    "                    is_prime = False\n",
    "                    break\n",
    "            if is_prime:\n",
    "                primes.append(num)\n",
    "    return primes\n",
    "\n",
    "print(primes_in_range(10, 30))\n"
   ]
  },
  {
   "cell_type": "markdown",
   "id": "c2bf2168-7d67-4bf7-bbda-7bc661dd9031",
   "metadata": {},
   "source": [
    "24. Write a function to return the number of uppercase and \n",
    "lowercase letters in a string."
   ]
  },
  {
   "cell_type": "code",
   "execution_count": null,
   "id": "f0eb4020-8728-424f-b797-45d54d298536",
   "metadata": {},
   "outputs": [],
   "source": [
    "def count_case(s):\n",
    "    uppercase = 0\n",
    "    lowercase = 0\n",
    "\n",
    "    for char in s:\n",
    "        if char.isupper():\n",
    "            uppercase += 1\n",
    "        elif char.islower():\n",
    "            lowercase += 1\n",
    "\n",
    "    return uppercase, lowercase\n",
    "\n",
    "text = input(\"Enter a string: \")\n",
    "up, low = count_case(text)\n",
    "print(\"Uppercase letters:\", up)\n",
    "print(\"Lowercase letters:\", low)"
   ]
  },
  {
   "cell_type": "markdown",
   "id": "3df57d65-83b6-424d-a30c-51a16dfe91c6",
   "metadata": {},
   "source": [
    "25. Write a function to compute the sum of digits of a number."
   ]
  },
  {
   "cell_type": "code",
   "execution_count": null,
   "id": "4d0b0f37-3af3-41fa-9b5c-b94c9e3d55df",
   "metadata": {},
   "outputs": [],
   "source": [
    "def count_words(sentence):\n",
    "    words = sentence.split()  # space ke basis pe tod diya\n",
    "    return len(words)\n",
    "\n",
    "\n",
    "text = input(\"Enter a sentence: \")\n",
    "print(\"Number of words:\", count_words(text))\n"
   ]
  },
  {
   "cell_type": "markdown",
   "id": "8ffb7d39-cc78-4ba0-affa-4e7c2058587a",
   "metadata": {},
   "source": [
    "27. Create a function to remove all punctuation from a string. "
   ]
  },
  {
   "cell_type": "code",
   "execution_count": null,
   "id": "1a94ea2e-336f-4800-80eb-2e8569c1b9bf",
   "metadata": {},
   "outputs": [],
   "source": [
    "def remove_punctuation(s):\n",
    "    punctuation = \"!\\\"#$%&'()*+,-./:;<=>?@[\\\\]^_`{|}~\"\n",
    "    result = \"\"\n",
    "    for char in s:\n",
    "        if char not in punctuation:\n",
    "            result += char\n",
    "    return result\n",
    "\n",
    "\n",
    "text = input(\"Enter a string: \")\n",
    "print(remove_punctuation(text))\n"
   ]
  },
  {
   "cell_type": "markdown",
   "id": "44c6b3bb-5b48-435f-b793-ff2eb28fbcea",
   "metadata": {},
   "source": [
    "28. Create a function that finds the GCD (greatest common \n",
    "divisor) of two numbers."
   ]
  },
  {
   "cell_type": "code",
   "execution_count": null,
   "id": "0162eee1-9ff6-4ff5-95f5-1c52e47c0a90",
   "metadata": {},
   "outputs": [],
   "source": [
    "def gcd(a, b):\n",
    "    while b != 0:\n",
    "        a, b = b, a % b  # Euclid's algorithm\n",
    "    return a\n",
    "\n",
    "x = int(input(\"Enter first number: \"))\n",
    "y = int(input(\"Enter second number: \"))\n",
    "print(\"GCD:\", gcd(x, y))\n"
   ]
  },
  {
   "cell_type": "markdown",
   "id": "a6e9633c-411b-4910-81c6-42c740861555",
   "metadata": {},
   "source": [
    "29. Write a function that takes a list and returns only those \n",
    "elements that appear more than once."
   ]
  },
  {
   "cell_type": "code",
   "execution_count": null,
   "id": "3ce84a69-6a06-46b1-b58f-31e3c22fca74",
   "metadata": {},
   "outputs": [],
   "source": [
    "def duplicates(lst):\n",
    "    result = []\n",
    "    seen = []\n",
    "    for item in lst:\n",
    "        if item in seen and item not in result:\n",
    "            result.append(item)\n",
    "        else:\n",
    "            seen.append(item)\n",
    "    return result\n",
    "items = [1, 2, 2, 3, 4, 3, 5]\n",
    "print(duplicates(items))\n"
   ]
  },
  {
   "cell_type": "markdown",
   "id": "ccfd630c-393d-402c-9f0c-971bbedb693c",
   "metadata": {},
   "source": [
    "30. Create a function to return the largest of three numbers."
   ]
  },
  {
   "cell_type": "code",
   "execution_count": null,
   "id": "c1105503-c966-4385-9e91-073478fe8b27",
   "metadata": {},
   "outputs": [],
   "source": [
    "def largest_of_three(a, b, c):\n",
    "    if a >= b and a >= c:\n",
    "        return a\n",
    "    elif b >= a and b >= c:\n",
    "        return b\n",
    "    else:\n",
    "        return c\n",
    "\n",
    "print(largest_of_three(10, 20, 15))\n"
   ]
  },
  {
   "cell_type": "raw",
   "id": "b05470d5-dd58-40a6-b73b-5b16c32caaff",
   "metadata": {},
   "source": [
    "�\n",
    "�\n",
    " Section C: String, List, Dictionary & Tuple Operations (Q31–Q40)"
   ]
  },
  {
   "cell_type": "markdown",
   "id": "9d67c65e-30db-4df1-b6e4-c0afde93eeae",
   "metadata": {},
   "source": [
    "31. Write a program to sort words in a sentence \n",
    "alphabetically. "
   ]
  },
  {
   "cell_type": "code",
   "execution_count": null,
   "id": "012e6c14-25b4-40b5-aed7-17ae7a5d312f",
   "metadata": {},
   "outputs": [],
   "source": [
    "sentence = input(\"Enter a sentence: \")\n",
    "words = sentence.split()\n",
    "words.sort()\n",
    "print(\" \".join(words))\n"
   ]
  },
  {
   "cell_type": "markdown",
   "id": "4e1105d1-b7f4-4b97-a07d-6cddac76da06",
   "metadata": {},
   "source": [
    "32. Concatenate two dictionaries and print the result."
   ]
  },
  {
   "cell_type": "code",
   "execution_count": null,
   "id": "a0d445d2-00d2-4ed9-ab0b-fd534135e791",
   "metadata": {},
   "outputs": [],
   "source": [
    "dict1 = {'a': 1, 'b': 2}\n",
    "dict2 = {'c': 3, 'd': 4}\n",
    "\n",
    "dict1.update(dict2)\n",
    "print(dict1)\n"
   ]
  },
  {
   "cell_type": "markdown",
   "id": "07f1eace-d247-4f2b-a220-3e85d79b0548",
   "metadata": {},
   "source": [
    "33. Count how many vowels are present in each word of a \n",
    "sentence."
   ]
  },
  {
   "cell_type": "code",
   "execution_count": null,
   "id": "e001e2f6-4f32-4e96-a650-5268cd792cb6",
   "metadata": {},
   "outputs": [],
   "source": [
    "sentence = input(\"Enter a sentence: \")\n",
    "words = sentence.split()\n",
    "\n",
    "for word in words:\n",
    "    count = 0\n",
    "    for char in word.lower():\n",
    "        if char in 'aeiou':\n",
    "            count += 1\n",
    "    print(word, \":\", count)\n"
   ]
  },
  {
   "cell_type": "markdown",
   "id": "e28e3e30-b1eb-4a99-9c4b-f8ed563d2991",
   "metadata": {},
   "source": [
    "34. Accept a tuple and convert it into a list. "
   ]
  },
  {
   "cell_type": "code",
   "execution_count": null,
   "id": "1b25c67f-492d-4d35-a15e-ceb913c0773d",
   "metadata": {},
   "outputs": [],
   "source": [
    "tup = tuple(map(int, input(\"Enter numbers separated by space: \").split()))\n",
    "lst = list(tup)\n",
    "print(lst)\n"
   ]
  },
  {
   "cell_type": "markdown",
   "id": "699c9708-55d6-41a8-9921-d64dece81612",
   "metadata": {},
   "source": [
    "35. Remove all whitespace from a given string using a \n",
    "function."
   ]
  },
  {
   "cell_type": "code",
   "execution_count": null,
   "id": "57949834-1f96-422f-8095-6f7ed39fc200",
   "metadata": {},
   "outputs": [],
   "source": [
    "def remove_whitespace(s):\n",
    "    return s.replace(\" \", \"\")\n",
    "\n",
    "text = input(\"Enter a string: \")\n",
    "print(remove_whitespace(text))"
   ]
  },
  {
   "cell_type": "markdown",
   "id": "e683f2fa-78bc-4c44-a238-65300ed348a0",
   "metadata": {},
   "source": [
    "36. Merge two lists into a dictionary using one as keys and the \n",
    "other as values."
   ]
  },
  {
   "cell_type": "code",
   "execution_count": null,
   "id": "9dab85fc-e3d7-48cb-b661-3f1430115cee",
   "metadata": {},
   "outputs": [],
   "source": [
    "keys = [1, 2, 3]\n",
    "values = ['a', 'b', 'c']\n",
    "\n",
    "result = {}\n",
    "\n",
    "for i in range(len(keys)):\n",
    "    result[keys[i]] = values[i]\n",
    "\n",
    "print(result)\n"
   ]
  },
  {
   "cell_type": "markdown",
   "id": "286a9ac2-2518-405b-b0b3-52fb7212622b",
   "metadata": {},
   "source": [
    "37. Write a program to get the key with the maximum value in \n",
    "a dictionary. "
   ]
  },
  {
   "cell_type": "code",
   "execution_count": null,
   "id": "dbc35c92-82d4-4053-a5b5-48e4c0af80be",
   "metadata": {},
   "outputs": [],
   "source": [
    "d = {'a': 5, 'b': 10, 'c': 7}\n",
    "\n",
    "max_key = None\n",
    "max_value = float('-inf')\n",
    "\n",
    "for key, value in d.items():\n",
    "    if value > max_value:\n",
    "        max_value = value\n",
    "        max_key = key\n",
    "\n",
    "print(max_key)\n"
   ]
  },
  {
   "cell_type": "markdown",
   "id": "9d786832-d414-4cc0-828b-a7a3cad49f86",
   "metadata": {},
   "source": [
    "38. Accept a string and print a dictionary with word \n",
    "frequencies."
   ]
  },
  {
   "cell_type": "code",
   "execution_count": null,
   "id": "e5203672-3b78-4d6d-ac0f-7a8c0bcfa45d",
   "metadata": {},
   "outputs": [],
   "source": [
    "text = input(\"Enter a string: \")\n",
    "words = text.split()\n",
    "\n",
    "freq = {}\n",
    "\n",
    "for word in words:\n",
    "    if word in freq:\n",
    "        freq[word] += 1\n",
    "    else:\n",
    "        freq[word] = 1\n",
    "\n",
    "print(freq)\n"
   ]
  },
  {
   "cell_type": "markdown",
   "id": "829008fb-970d-48fb-b83e-8e61061866cb",
   "metadata": {},
   "source": [
    "39. Write a program to check if a key exists in a dictionary."
   ]
  },
  {
   "cell_type": "code",
   "execution_count": null,
   "id": "5fe71258-7640-4121-88b3-b0bf8553d966",
   "metadata": {},
   "outputs": [],
   "source": [
    "my_dict = {\n",
    "    \"name\": \"Alice\",\n",
    "    \"age\": 25,\n",
    "    \"city\": \"New York\"\n",
    "}\n",
    "\n",
    "key_to_check = \"age\"\n",
    "\n",
    "if key_to_check in my_dict:\n",
    "    print(f\"Key '{key_to_check}' dictionary mein hai.\")\n",
    "else:\n",
    "    print(f\"Key '{key_to_check}' dictionary mein nahi hai.\")\n"
   ]
  },
  {
   "cell_type": "markdown",
   "id": "02de7597-98bf-4408-b2a8-abb69b874dab",
   "metadata": {},
   "source": [
    "40. Write a program to replace all the vowels in a string with \n",
    "'*'"
   ]
  },
  {
   "cell_type": "code",
   "execution_count": null,
   "id": "7b7cfb73-c6bb-4cdc-83f7-e4528db1c322",
   "metadata": {},
   "outputs": [],
   "source": [
    "s = input(\"Enter a string: \")\n",
    "vowels = \"aeiouAEIOU\"\n",
    "result = \"\"\n",
    "\n",
    "for ch in s:\n",
    "    if ch in vowels:\n",
    "        result += '*'\n",
    "    else:\n",
    "        result += ch\n",
    "\n",
    "print(\"Modified string:\", result)\n"
   ]
  },
  {
   "cell_type": "markdown",
   "id": "f9a6e0e7-93a9-48bc-857f-ca556822f4fe",
   "metadata": {},
   "source": [
    "41. Write a Python program to read the contents of a file and \n",
    "display it."
   ]
  },
  {
   "cell_type": "code",
   "execution_count": null,
   "id": "dde7025d-7361-4df2-8c0d-dfffcce5cbed",
   "metadata": {},
   "outputs": [],
   "source": [
    "file_name = input(\"Enter file name: \")\n",
    "\n",
    "try:\n",
    "    with open(file_name, 'r') as f:\n",
    "        print(f.read())\n",
    "except FileNotFoundError:\n",
    "    print(\"File not found.\")\n"
   ]
  },
  {
   "cell_type": "markdown",
   "id": "ac106337-2398-4246-8dc7-f6eefd3ff300",
   "metadata": {},
   "source": [
    "42. Count the number of words in a file."
   ]
  },
  {
   "cell_type": "code",
   "execution_count": null,
   "id": "80a6f288-8b4e-402a-ac0d-3d04558bb8e1",
   "metadata": {},
   "outputs": [],
   "source": [
    "file_name = input(\"Enter file name: \")\n",
    "\n",
    "try:\n",
    "    with open(file_name, 'r') as f:\n",
    "        content = f.read()\n",
    "        words = content.split()\n",
    "        print(\"Number of words:\", len(words))\n",
    "except FileNotFoundError:\n",
    "    print(\"File not found.\")\n"
   ]
  },
  {
   "cell_type": "markdown",
   "id": "a9061f24-fdbb-48bc-bafc-cf9b9079c099",
   "metadata": {},
   "source": [
    "43. Copy contents of one file to another."
   ]
  },
  {
   "cell_type": "code",
   "execution_count": null,
   "id": "7f629c7d-605f-4f66-9aee-8f688438f3ab",
   "metadata": {},
   "outputs": [],
   "source": [
    "source_file = input(\"Source file ka naam dijiye: \")\n",
    "destination_file = input(\"Destination file ka naam dijiye: \")\n",
    "\n",
    "try:\n",
    "    with open(source_file, 'r') as src:\n",
    "        content = src.read()\n",
    "\n",
    "    with open(destination_file, 'w') as dest:\n",
    "        dest.write(content)\n",
    "\n",
    "    print(\"File ka content successfully copy ho gaya.\")\n",
    "except FileNotFoundError:\n",
    "    print(f\"Error: File '{source_file}' nahi mili.\")\n",
    "except Exception as e:\n",
    "    print(\"Kuch error aaya:\", e)\n",
    "\n"
   ]
  },
  {
   "cell_type": "markdown",
   "id": "4c509b2b-f968-44e6-bd1c-563e83192648",
   "metadata": {},
   "source": [
    "44. Print only the lines that have more than 50 characters \n",
    "from a text file"
   ]
  },
  {
   "cell_type": "code",
   "execution_count": null,
   "id": "dfb7c117-9fc0-4667-a1bd-20a490de2992",
   "metadata": {},
   "outputs": [],
   "source": [
    "file_name = input(\"Enter file name: \")\n",
    "\n",
    "try:\n",
    "    with open(file_name, 'r') as f:\n",
    "        for line in f:\n",
    "            if len(line.strip()) > 50:\n",
    "                print(line.strip())\n",
    "except FileNotFoundError:\n",
    "    print(\"File not found.\")\n"
   ]
  },
  {
   "cell_type": "markdown",
   "id": "49c9bb3e-7001-415e-b4e6-96f5e24e47b6",
   "metadata": {},
   "source": [
    "45. Write a program to write a list of strings into a text file (one \n",
    "string per line). \n"
   ]
  },
  {
   "cell_type": "code",
   "execution_count": null,
   "id": "7ed9bfac-ed26-4e3e-8c8f-c33e7cf6bb8d",
   "metadata": {},
   "outputs": [],
   "source": [
    "lines = [\"Python\", \"is\", \"awesome\"]\n",
    "\n",
    "with open(\"output.txt\", 'w') as f:\n",
    "    for line in lines:\n",
    "        f.write(line + \"\\n\")\n",
    "\n",
    "print(\"Lines written to output.txt\")\n"
   ]
  },
  {
   "cell_type": "raw",
   "id": "385924bd-7f45-40d7-8d6e-f787d1cee20f",
   "metadata": {},
   "source": [
    "⚠\n",
    " Section E: Exception Handling (Q46–Q50)"
   ]
  },
  {
   "cell_type": "markdown",
   "id": "9291272a-c3a7-437c-8b02-2eb8f7ac1034",
   "metadata": {},
   "source": [
    "46. Write a program to take two numbers as input and handle \n",
    "division by zero. "
   ]
  },
  {
   "cell_type": "code",
   "execution_count": null,
   "id": "37fee2bd-6623-43c7-ab66-cb4a2e78380f",
   "metadata": {},
   "outputs": [],
   "source": [
    "try:\n",
    "    a = float(input(\"Enter first number: \"))\n",
    "    b = float(input(\"Enter second number: \"))\n",
    "    result = a / b\n",
    "    print(\"Result:\", result)\n",
    "except ZeroDivisionError:\n",
    "    print(\"Cannot divide by zero.\")\n",
    "except ValueError:\n",
    "    print(\"Please enter valid numbers.\")\n"
   ]
  },
  {
   "cell_type": "markdown",
   "id": "1bb97ff8-0368-4e26-9886-4e85dcc76d00",
   "metadata": {},
   "source": [
    "47. Handle invalid user input (e.g., entering a string when a \n",
    "number is expected)."
   ]
  },
  {
   "cell_type": "code",
   "execution_count": null,
   "id": "d5b8a8c8-5c86-4420-b20a-4a16e5b5ae24",
   "metadata": {},
   "outputs": [],
   "source": [
    "try:\n",
    "    num = int(input(\"Enter a number: \"))\n",
    "    print(\"You entered:\", num)\n",
    "except ValueError:\n",
    "    print(\"Invalid input! Please enter a number.\")\n"
   ]
  },
  {
   "cell_type": "markdown",
   "id": "d77d6650-086b-4cb1-a673-9014b13eb035",
   "metadata": {},
   "source": [
    "48. Try to open a file that doesn’t exist and handle the \n",
    "FileNotFoundError."
   ]
  },
  {
   "cell_type": "code",
   "execution_count": null,
   "id": "1960b4bd-7df5-4376-83de-f10685e0f53f",
   "metadata": {},
   "outputs": [],
   "source": [
    "file_name = \"no_file.txt\"\n",
    "\n",
    "try:\n",
    "    with open(file_name, 'r') as f:\n",
    "        print(f.read())\n",
    "except FileNotFoundError:\n",
    "    print(f\"File '{file_name}' not found.\")\n"
   ]
  },
  {
   "cell_type": "markdown",
   "id": "c474fbb3-c647-4799-a730-0f06fdc66388",
   "metadata": {},
   "source": [
    "49. Create a list of numbers and try accessing an invalid \n",
    "index. Handle the exception gracefully."
   ]
  },
  {
   "cell_type": "code",
   "execution_count": null,
   "id": "c49ead19-b08f-4862-88f9-20e700e787e0",
   "metadata": {},
   "outputs": [],
   "source": [
    "numbers = [10, 20, 30]\n",
    "\n",
    "try:\n",
    "    index = int(input(\"Enter index to access: \"))\n",
    "    print(numbers[index])\n",
    "except IndexError:\n",
    "    print(\"Invalid index!\")\n",
    "except ValueError:\n",
    "    print(\"Please enter a valid integer index.\")\n"
   ]
  },
  {
   "cell_type": "markdown",
   "id": "b5aec939-6b91-49ef-b15c-15fd57ee9d12",
   "metadata": {},
   "source": [
    "50. Use a try-except-finally block to demonstrate the \n",
    "execution of the finally clause."
   ]
  },
  {
   "cell_type": "code",
   "execution_count": null,
   "id": "25654e23-5215-4f44-875c-53af686e1d0b",
   "metadata": {},
   "outputs": [],
   "source": [
    "try:\n",
    "    x = int(input(\"Enter numerator: \"))\n",
    "    y = int(input(\"Enter denominator: \"))\n",
    "    print(\"Result:\", x / y)\n",
    "except ZeroDivisionError:\n",
    "    print(\"Error: Division by zero.\")\n",
    "except ValueError:\n",
    "    print(\"Invalid input.\")\n",
    "finally:\n",
    "    print(\"This finally block always executes.\")\n"
   ]
  },
  {
   "cell_type": "code",
   "execution_count": null,
   "id": "5cf5cc61-ba39-4b62-b221-9967170a96a2",
   "metadata": {},
   "outputs": [],
   "source": []
  },
  {
   "cell_type": "code",
   "execution_count": null,
   "id": "eeb138d9-c09c-453b-a571-1a6cd1c93942",
   "metadata": {},
   "outputs": [],
   "source": []
  },
  {
   "cell_type": "code",
   "execution_count": null,
   "id": "0075663e-1a5e-4b90-ba6b-f0a513ced8de",
   "metadata": {},
   "outputs": [],
   "source": []
  }
 ],
 "metadata": {
  "kernelspec": {
   "display_name": "Python 3 (ipykernel)",
   "language": "python",
   "name": "python3"
  },
  "language_info": {
   "codemirror_mode": {
    "name": "ipython",
    "version": 3
   },
   "file_extension": ".py",
   "mimetype": "text/x-python",
   "name": "python",
   "nbconvert_exporter": "python",
   "pygments_lexer": "ipython3",
   "version": "3.12.7"
  }
 },
 "nbformat": 4,
 "nbformat_minor": 5
}
