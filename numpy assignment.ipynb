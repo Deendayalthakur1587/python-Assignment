{
 "cells": [
  {
   "cell_type": "code",
   "execution_count": 57,
   "id": "0e232c38-a8da-4a43-a3b9-4587b8c5e293",
   "metadata": {},
   "outputs": [],
   "source": [
    "import numpy as np"
   ]
  },
  {
   "cell_type": "markdown",
   "id": "58fbec26-6c82-4105-8474-9dd217379bf6",
   "metadata": {},
   "source": [
    "1. Create a NumPy array arr of integers from 0 to 5 and print its data type.\n"
   ]
  },
  {
   "cell_type": "code",
   "execution_count": 58,
   "id": "92344f0c-4527-482e-a4af-9a268de37320",
   "metadata": {},
   "outputs": [
    {
     "name": "stdout",
     "output_type": "stream",
     "text": [
      "[0 1 2 3 4]\n",
      "<class 'numpy.ndarray'>\n"
     ]
    }
   ],
   "source": [
    "a1=np.arange(5)\n",
    "print(a1)\n",
    "print(type(a1))"
   ]
  },
  {
   "cell_type": "markdown",
   "id": "8334c75a-8e4e-48a0-8078-11f9989dddac",
   "metadata": {},
   "source": [
    "2. Given a NumPy array arr, check if its data type is float64. \n"
   ]
  },
  {
   "cell_type": "code",
   "execution_count": 59,
   "id": "a8815ea8-6ed5-46c5-be66-a024829f63d1",
   "metadata": {},
   "outputs": [
    {
     "name": "stdout",
     "output_type": "stream",
     "text": [
      "True\n"
     ]
    }
   ],
   "source": [
    "a2=np.array([[1.0,2.0,3.0],[4.0,5.0,6.0]])\n",
    "is_float64=a2.dtype==np.float64\n",
    "\n",
    "print(is_float64)"
   ]
  },
  {
   "cell_type": "markdown",
   "id": "47a4a7c9-fdd6-4d27-8ec3-c3cc9181ec11",
   "metadata": {},
   "source": [
    "3. Create a NumPy array arr with a data type of complex128 containing three \n",
    "complex numbers."
   ]
  },
  {
   "cell_type": "code",
   "execution_count": 60,
   "id": "86320023-9a56-4a95-a7ed-b1ab15f4c802",
   "metadata": {},
   "outputs": [
    {
     "name": "stdout",
     "output_type": "stream",
     "text": [
      "[1.+2.j 3.+4.j 5.+6.j]\n",
      "complex128\n"
     ]
    }
   ],
   "source": [
    "a3=np.array([1+2j,3+4j,5+6j],dtype=np.complex128)\n",
    "print(a3)\n",
    "print(a3.dtype)"
   ]
  },
  {
   "cell_type": "markdown",
   "id": "db1d7b08-481e-442c-a577-909cf2ce7d84",
   "metadata": {},
   "source": [
    "4. Convert an existing NumPy array arr of integers to float32 data type. \n"
   ]
  },
  {
   "cell_type": "code",
   "execution_count": 61,
   "id": "bc29e8b6-c28d-490a-88be-010474850000",
   "metadata": {},
   "outputs": [
    {
     "name": "stdout",
     "output_type": "stream",
     "text": [
      "[1. 2. 3. 4. 5. 6. 7. 8.]\n",
      "float32\n"
     ]
    }
   ],
   "source": [
    "arr=np.array([1,2,3,4,5,6,7,8])\n",
    "arr_float32=arr.astype(np.float32)\n",
    "print(arr_float32)\n",
    "print(arr_float32.dtype)"
   ]
  },
  {
   "cell_type": "markdown",
   "id": "60b67754-798e-47ad-8728-187b3bfc48e0",
   "metadata": {},
   "source": [
    "5. Given a NumPy array arr with float64 data type, convert it to float32 to reduce \n",
    "decimal precision. "
   ]
  },
  {
   "cell_type": "code",
   "execution_count": 62,
   "id": "de59b69e-5b28-40fe-b3ff-d62c7432ba7e",
   "metadata": {},
   "outputs": [
    {
     "name": "stdout",
     "output_type": "stream",
     "text": [
      "[1.012364   2.49684864 3.1655     4.0545646  5.6846846  6.64645   ]\n",
      "float32\n"
     ]
    }
   ],
   "source": [
    "arr=np.array([1.012364,2.496848640,3.16550,4.0545646,5.68468460,6.646450],dtype=np.float64)\n",
    "arr_float32=arr.astype(np.float32)\n",
    "print(arr)\n",
    "print(arr_float32.dtype)\n"
   ]
  },
  {
   "cell_type": "markdown",
   "id": "5411a915-301c-4dc0-81eb-ffe12cf9e376",
   "metadata": {},
   "source": [
    "6. Write a function array_attributes that takes a NumPy array as input and returns \n",
    "its shape, size, and data type. "
   ]
  },
  {
   "cell_type": "code",
   "execution_count": 64,
   "id": "c5b5b2fc-e479-43a4-8475-1da58f81e443",
   "metadata": {},
   "outputs": [
    {
     "name": "stdout",
     "output_type": "stream",
     "text": [
      "(2, 3)\n",
      "6\n",
      "int32\n"
     ]
    }
   ],
   "source": [
    "def array_attributes(arr):\n",
    "    return arr.shape,arr.size,arr.dtype\n",
    "arr = np.array([[1, 2, 3], [4, 5, 6]], dtype=np.int32)\n",
    "shape,size,dtype=array_attributes(arr)\n",
    "print(shape)\n",
    "print(size)\n",
    "print(dtype)"
   ]
  },
  {
   "cell_type": "markdown",
   "id": "5372c91d-0c9c-4fb3-a7b8-f675c7f0fc00",
   "metadata": {},
   "source": [
    "7. Create a function array_dimension that returns the dimensionality of a NumPy \n",
    "array."
   ]
  },
  {
   "cell_type": "code",
   "execution_count": 69,
   "id": "3f7e77b0-15a5-449e-8ded-27aebbcb3dbd",
   "metadata": {},
   "outputs": [
    {
     "name": "stdout",
     "output_type": "stream",
     "text": [
      "2\n"
     ]
    }
   ],
   "source": [
    "def array_dimention(arr):\n",
    "    return arr.ndim\n",
    "arr=np.array([[1,2,3,],[4,5,6]])\n",
    "dimention=array_dimention(arr)\n",
    "print(dimention)"
   ]
  },
  {
   "cell_type": "markdown",
   "id": "fcacd9d5-86f6-4ab9-b354-9715d8ce19ed",
   "metadata": {},
   "source": [
    "8. Design a function item_size_info that returns the item size and total size in bytes \n",
    "of a NumPy array."
   ]
  },
  {
   "cell_type": "code",
   "execution_count": 76,
   "id": "6dbe638c-50ef-4fe4-971b-7e5189550f61",
   "metadata": {},
   "outputs": [
    {
     "name": "stdout",
     "output_type": "stream",
     "text": [
      "4\n",
      "48\n"
     ]
    }
   ],
   "source": [
    "def item_size_info(arr):\n",
    "    item_size=arr.itemsize\n",
    "    total_size=arr.nbytes\n",
    "    return item_size,total_size\n",
    "arr=np.array([[[1,2,3],[4,5,6]],[[7,8,9],[3,6,9]]],dtype=np.int32)\n",
    "item_size,total_size=item_size_info(arr)\n",
    "print(item_size)\n",
    "print(total_size)"
   ]
  },
  {
   "cell_type": "markdown",
   "id": "2a5cd185-b74f-4229-b3a4-6cf33b75f8c4",
   "metadata": {},
   "source": [
    "10. Design a function shape_stride_relationship that returns the shape and \n",
    "strides of the given array"
   ]
  },
  {
   "cell_type": "code",
   "execution_count": 83,
   "id": "6f75f03c-ed04-43af-8f7c-6effec696e77",
   "metadata": {},
   "outputs": [
    {
     "name": "stdout",
     "output_type": "stream",
     "text": [
      "(2, 2, 3)\n",
      "(24, 12, 4)\n"
     ]
    }
   ],
   "source": [
    "def shape_stride_relationship(arr):\n",
    "    \n",
    "    return arr.shape,arr.strides\n",
    "arr=np.array([[[1,2,3],[4,5,6]],[[7,8,9],[3,6,9]]],dtype=np.int32)\n",
    "shape,strides=shape_stride_relationship(arr)\n",
    "print(shape)\n",
    "print(strides)"
   ]
  },
  {
   "cell_type": "raw",
   "id": "c1ef7ae4-3a7b-4dc3-a88d-868feb5a7c21",
   "metadata": {},
   "source": [
    "Array Creation \n"
   ]
  },
  {
   "cell_type": "code",
   "execution_count": null,
   "id": "547b5212-c366-47ce-a1cf-2f3b2964784b",
   "metadata": {},
   "outputs": [],
   "source": [
    "11. Create a function create_zeros_array(n) to return a NumPy array of zeros with \n",
    "n elements."
   ]
  },
  {
   "cell_type": "code",
   "execution_count": null,
   "id": "a6f16a6e-e96a-4b38-a72a-bc545ec4e1b8",
   "metadata": {},
   "outputs": [],
   "source": [
    "def create_zeros_array(arr):\n",
    "    "
   ]
  },
  {
   "cell_type": "code",
   "execution_count": null,
   "id": "04c40f54-520b-4ec5-8c71-092b42895c9e",
   "metadata": {},
   "outputs": [],
   "source": [
    "12. Write a function create_ones_matrix(rows, cols) to create a 2D array filled \n",
    "with ones."
   ]
  },
  {
   "cell_type": "code",
   "execution_count": null,
   "id": "53651be8-69bb-4c9b-8d54-5e47304f2a62",
   "metadata": {},
   "outputs": [],
   "source": [
    "13. Write a function generate_range_array(start, stop, step) to create a \n",
    "ranged NumPy array.\n",
    "\n",
    "\n"
   ]
  },
  {
   "cell_type": "code",
   "execution_count": null,
   "id": "13dd5bae-bf05-497b-9c6f-3bd6c62f4c21",
   "metadata": {},
   "outputs": [],
   "source": [
    "\n"
   ]
  },
  {
   "cell_type": "code",
   "execution_count": null,
   "id": "399c5bdd-f8ed-40ee-bc64-9294087abf19",
   "metadata": {},
   "outputs": [],
   "source": [
    "\n",
    "\n",
    "\n",
    "\n"
   ]
  },
  {
   "cell_type": "code",
   "execution_count": null,
   "id": "0ac3759c-8cb0-49ec-a775-64cf919d79fd",
   "metadata": {},
   "outputs": [],
   "source": []
  },
  {
   "cell_type": "code",
   "execution_count": null,
   "id": "f3bfcc8e-efb5-45dd-9471-6555296f451f",
   "metadata": {},
   "outputs": [],
   "source": []
  },
  {
   "cell_type": "code",
   "execution_count": null,
   "id": "1ba1499c-24ed-4149-9e50-f16ef3a87bd4",
   "metadata": {},
   "outputs": [],
   "source": []
  },
  {
   "cell_type": "code",
   "execution_count": null,
   "id": "4f85e7dc-c755-427d-a5fe-0617e045afe1",
   "metadata": {},
   "outputs": [],
   "source": [
    "\n",
    "\n"
   ]
  },
  {
   "cell_type": "code",
   "execution_count": null,
   "id": "7fe012e2-45f7-4b12-8886-59483d03008e",
   "metadata": {},
   "outputs": [],
   "source": [
    "\n"
   ]
  },
  {
   "cell_type": "code",
   "execution_count": null,
   "id": "c40d745d-82ad-4dd9-b3c2-6d0487d2b5ea",
   "metadata": {},
   "outputs": [],
   "source": []
  },
  {
   "cell_type": "code",
   "execution_count": null,
   "id": "3ed2a13b-25d5-4820-81fd-29733676d938",
   "metadata": {},
   "outputs": [],
   "source": [
    "\n"
   ]
  },
  {
   "cell_type": "code",
   "execution_count": null,
   "id": "7c69156c-aa2c-4946-ab31-62eaaac45ab3",
   "metadata": {},
   "outputs": [],
   "source": []
  },
  {
   "cell_type": "code",
   "execution_count": null,
   "id": "58aba813-f095-4db2-acfb-e6b5c4c75215",
   "metadata": {},
   "outputs": [],
   "source": []
  },
  {
   "cell_type": "code",
   "execution_count": null,
   "id": "a88358d8-2f9f-4898-9b8d-2a5ea13aead9",
   "metadata": {},
   "outputs": [],
   "source": [
    "\n"
   ]
  },
  {
   "cell_type": "code",
   "execution_count": null,
   "id": "50c5687c-947d-413b-86b0-95cd28621090",
   "metadata": {},
   "outputs": [],
   "source": []
  },
  {
   "cell_type": "code",
   "execution_count": null,
   "id": "ea7874a4-58da-401a-889c-449366f9ef81",
   "metadata": {},
   "outputs": [],
   "source": []
  },
  {
   "cell_type": "code",
   "execution_count": null,
   "id": "34c8824b-d413-4bd0-93db-0db3e5bbb15a",
   "metadata": {},
   "outputs": [],
   "source": []
  },
  {
   "cell_type": "code",
   "execution_count": null,
   "id": "43c564c0-6fc3-41b8-8565-9511984f1e72",
   "metadata": {},
   "outputs": [],
   "source": []
  },
  {
   "cell_type": "code",
   "execution_count": null,
   "id": "25f8df85-a866-469e-97e4-98a6e1605ed5",
   "metadata": {},
   "outputs": [],
   "source": []
  },
  {
   "cell_type": "code",
   "execution_count": null,
   "id": "d5db9735-72eb-4460-9a56-62d7bb7ef4c2",
   "metadata": {},
   "outputs": [],
   "source": []
  },
  {
   "cell_type": "code",
   "execution_count": null,
   "id": "b3f8fd2f-445a-4104-9c24-c91ef22dfb27",
   "metadata": {},
   "outputs": [],
   "source": [
    "\n",
    "\n",
    "\n"
   ]
  },
  {
   "cell_type": "code",
   "execution_count": null,
   "id": "b9ee7804-3bce-4932-9bef-ca028c140203",
   "metadata": {},
   "outputs": [],
   "source": [
    "\n",
    "\n"
   ]
  },
  {
   "cell_type": "code",
   "execution_count": null,
   "id": "995ad208-584a-4ab7-8919-25f1b7fb21f5",
   "metadata": {},
   "outputs": [],
   "source": []
  },
  {
   "cell_type": "code",
   "execution_count": null,
   "id": "08715844-80e7-4827-8aae-86f24f33e417",
   "metadata": {},
   "outputs": [],
   "source": [
    "\n",
    "\n",
    "\n",
    "\n",
    "\n",
    "\n",
    "\n",
    "\n",
    "\n",
    "\n",
    "\n"
   ]
  },
  {
   "cell_type": "code",
   "execution_count": null,
   "id": "3ba3f0f7-cac0-4ede-81fa-4587f5158ba9",
   "metadata": {},
   "outputs": [],
   "source": []
  },
  {
   "cell_type": "code",
   "execution_count": null,
   "id": "2a3cd035-b664-4e0d-826b-9eb962efd620",
   "metadata": {},
   "outputs": [],
   "source": []
  },
  {
   "cell_type": "code",
   "execution_count": null,
   "id": "b1e7138b-db61-4907-b30b-33cf74d113e0",
   "metadata": {},
   "outputs": [],
   "source": []
  },
  {
   "cell_type": "code",
   "execution_count": null,
   "id": "297d25bf-c385-437a-83ad-2b3507d461ef",
   "metadata": {},
   "outputs": [],
   "source": [
    "\n",
    "\n",
    "\n",
    "\n",
    "\n",
    "\n"
   ]
  },
  {
   "cell_type": "code",
   "execution_count": null,
   "id": "cf955b62-0b0e-4c9d-b396-872fd48a8ac4",
   "metadata": {},
   "outputs": [],
   "source": []
  },
  {
   "cell_type": "code",
   "execution_count": null,
   "id": "1e1cd954-070c-4617-b0dc-1f236475205b",
   "metadata": {},
   "outputs": [],
   "source": [
    "\n",
    "\n",
    "\n",
    "\n",
    "\n"
   ]
  },
  {
   "cell_type": "code",
   "execution_count": null,
   "id": "de207af5-4712-40be-a94c-135fe3a7b464",
   "metadata": {},
   "outputs": [],
   "source": []
  },
  {
   "cell_type": "code",
   "execution_count": null,
   "id": "15841eaa-354c-419e-9d6c-1701d55f1d18",
   "metadata": {},
   "outputs": [],
   "source": []
  },
  {
   "cell_type": "code",
   "execution_count": null,
   "id": "a4f4d245-bee1-484d-a3fb-728b4bc3918e",
   "metadata": {},
   "outputs": [],
   "source": []
  },
  {
   "cell_type": "code",
   "execution_count": null,
   "id": "a55a08bd-22aa-4976-bd89-c8b741d7b84a",
   "metadata": {},
   "outputs": [],
   "source": []
  },
  {
   "cell_type": "code",
   "execution_count": null,
   "id": "bf357e13-c83a-4565-8c3e-a4a5cbb0c7ad",
   "metadata": {},
   "outputs": [],
   "source": []
  },
  {
   "cell_type": "code",
   "execution_count": null,
   "id": "d4a3799b-1f7b-4bd2-ac98-09c560da57fa",
   "metadata": {},
   "outputs": [],
   "source": []
  },
  {
   "cell_type": "code",
   "execution_count": null,
   "id": "1068cb4d-4514-4bde-8224-70387591ac80",
   "metadata": {},
   "outputs": [],
   "source": []
  },
  {
   "cell_type": "code",
   "execution_count": null,
   "id": "e1ce8b94-6aa2-4b48-887c-4fa0513d8531",
   "metadata": {},
   "outputs": [],
   "source": []
  },
  {
   "cell_type": "code",
   "execution_count": null,
   "id": "0bf3ad6b-9011-4190-b06e-623e0bb4d801",
   "metadata": {},
   "outputs": [],
   "source": []
  },
  {
   "cell_type": "code",
   "execution_count": null,
   "id": "1769e908-5df9-446e-85e4-741845b19d0a",
   "metadata": {},
   "outputs": [],
   "source": []
  },
  {
   "cell_type": "code",
   "execution_count": null,
   "id": "7ce87fcb-c9c4-4eeb-8eef-70ea3e593833",
   "metadata": {},
   "outputs": [],
   "source": []
  },
  {
   "cell_type": "code",
   "execution_count": null,
   "id": "a984635b-b034-41d5-89bc-ead22fce400e",
   "metadata": {},
   "outputs": [],
   "source": []
  },
  {
   "cell_type": "code",
   "execution_count": null,
   "id": "bb039dcd-5c9b-44da-a769-07b00c483b48",
   "metadata": {},
   "outputs": [],
   "source": []
  },
  {
   "cell_type": "code",
   "execution_count": null,
   "id": "b596e2c0-6205-4055-8f2c-f33dbcbe591b",
   "metadata": {},
   "outputs": [],
   "source": []
  },
  {
   "cell_type": "code",
   "execution_count": null,
   "id": "eea7e441-05bc-43c3-9490-c48b7055693e",
   "metadata": {},
   "outputs": [],
   "source": []
  },
  {
   "cell_type": "code",
   "execution_count": null,
   "id": "059930b4-0fdf-425f-8ee1-d4bef616741b",
   "metadata": {},
   "outputs": [],
   "source": []
  },
  {
   "cell_type": "code",
   "execution_count": null,
   "id": "7e4d2a55-25c3-45dc-be6e-f7623cb69427",
   "metadata": {},
   "outputs": [],
   "source": []
  }
 ],
 "metadata": {
  "kernelspec": {
   "display_name": "Python 3 (ipykernel)",
   "language": "python",
   "name": "python3"
  },
  "language_info": {
   "codemirror_mode": {
    "name": "ipython",
    "version": 3
   },
   "file_extension": ".py",
   "mimetype": "text/x-python",
   "name": "python",
   "nbconvert_exporter": "python",
   "pygments_lexer": "ipython3",
   "version": "3.12.7"
  }
 },
 "nbformat": 4,
 "nbformat_minor": 5
}
